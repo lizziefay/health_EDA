{
 "cells": [
  {
   "cell_type": "code",
   "execution_count": 212,
   "metadata": {},
   "outputs": [
    {
     "data": {
      "text/html": [
       "        <script type=\"text/javascript\">\n",
       "        window.PlotlyConfig = {MathJaxConfig: 'local'};\n",
       "        if (window.MathJax && window.MathJax.Hub && window.MathJax.Hub.Config) {window.MathJax.Hub.Config({SVG: {font: \"STIX-Web\"}});}\n",
       "        if (typeof require !== 'undefined') {\n",
       "        require.undef(\"plotly\");\n",
       "        requirejs.config({\n",
       "            paths: {\n",
       "                'plotly': ['https://cdn.plot.ly/plotly-2.34.0.min']\n",
       "            }\n",
       "        });\n",
       "        require(['plotly'], function(Plotly) {\n",
       "            window._Plotly = Plotly;\n",
       "        });\n",
       "        }\n",
       "        </script>\n",
       "        "
      ]
     },
     "metadata": {},
     "output_type": "display_data"
    }
   ],
   "source": [
    "# import libraries\n",
    "import json\n",
    "import pandas as pd\n",
    "import re\n",
    "import numpy as np\n",
    "import matplotlib.pyplot as plt\n",
    "import seaborn as sns\n",
    "import plotly.offline as py\n",
    "import plotly.graph_objs as go\n",
    "import plotly.tools as tls\n",
    "py.init_notebook_mode(connected=True)\n",
    "sns.set(style=\"white\", color_codes=True)\n",
    "\n",
    "import Functions_EDA as Functions_EDA\n",
    "\n",
    "import plotly.figure_factory as ff\n",
    "import plotly.express as px  \n",
    "import warnings\n",
    "warnings.filterwarnings('ignore')"
   ]
  },
  {
   "cell_type": "markdown",
   "metadata": {},
   "source": [
    "Import datasets and clean:"
   ]
  },
  {
   "cell_type": "code",
   "execution_count": 213,
   "metadata": {},
   "outputs": [
    {
     "data": {
      "text/html": [
       "<div>\n",
       "<style scoped>\n",
       "    .dataframe tbody tr th:only-of-type {\n",
       "        vertical-align: middle;\n",
       "    }\n",
       "\n",
       "    .dataframe tbody tr th {\n",
       "        vertical-align: top;\n",
       "    }\n",
       "\n",
       "    .dataframe thead th {\n",
       "        text-align: right;\n",
       "    }\n",
       "</style>\n",
       "<table border=\"1\" class=\"dataframe\">\n",
       "  <thead>\n",
       "    <tr style=\"text-align: right;\">\n",
       "      <th></th>\n",
       "      <th>Entity</th>\n",
       "      <th>Code</th>\n",
       "      <th>Year</th>\n",
       "      <th>Prevalence of obesity among adults, BMI &gt;= 30 (crude estimate) (%) - Sex: both sexes - Age group: 18+  years</th>\n",
       "    </tr>\n",
       "  </thead>\n",
       "  <tbody>\n",
       "    <tr>\n",
       "      <th>0</th>\n",
       "      <td>Afghanistan</td>\n",
       "      <td>AFG</td>\n",
       "      <td>1975</td>\n",
       "      <td>0.4</td>\n",
       "    </tr>\n",
       "    <tr>\n",
       "      <th>1</th>\n",
       "      <td>Afghanistan</td>\n",
       "      <td>AFG</td>\n",
       "      <td>1976</td>\n",
       "      <td>0.4</td>\n",
       "    </tr>\n",
       "    <tr>\n",
       "      <th>2</th>\n",
       "      <td>Afghanistan</td>\n",
       "      <td>AFG</td>\n",
       "      <td>1977</td>\n",
       "      <td>0.5</td>\n",
       "    </tr>\n",
       "    <tr>\n",
       "      <th>3</th>\n",
       "      <td>Afghanistan</td>\n",
       "      <td>AFG</td>\n",
       "      <td>1978</td>\n",
       "      <td>0.5</td>\n",
       "    </tr>\n",
       "    <tr>\n",
       "      <th>4</th>\n",
       "      <td>Afghanistan</td>\n",
       "      <td>AFG</td>\n",
       "      <td>1979</td>\n",
       "      <td>0.5</td>\n",
       "    </tr>\n",
       "  </tbody>\n",
       "</table>\n",
       "</div>"
      ],
      "text/plain": [
       "        Entity Code  Year  \\\n",
       "0  Afghanistan  AFG  1975   \n",
       "1  Afghanistan  AFG  1976   \n",
       "2  Afghanistan  AFG  1977   \n",
       "3  Afghanistan  AFG  1978   \n",
       "4  Afghanistan  AFG  1979   \n",
       "\n",
       "   Prevalence of obesity among adults, BMI >= 30 (crude estimate) (%) - Sex: both sexes - Age group: 18+  years  \n",
       "0                                                0.4                                                             \n",
       "1                                                0.4                                                             \n",
       "2                                                0.5                                                             \n",
       "3                                                0.5                                                             \n",
       "4                                                0.5                                                             "
      ]
     },
     "execution_count": 213,
     "metadata": {},
     "output_type": "execute_result"
    }
   ],
   "source": [
    "# upload obesity data\n",
    "df = pd.read_csv('/Users/lizzieriordan/Desktop/health/share-of-adults-defined-as-obese/share-of-adults-defined-as-obese.csv')\n",
    "df.head()\n"
   ]
  },
  {
   "cell_type": "code",
   "execution_count": 214,
   "metadata": {},
   "outputs": [
    {
     "name": "stdout",
     "output_type": "stream",
     "text": [
      "Index(['Entity', 'Code', 'Year',\n",
      "       'Prevalence of obesity among adults, BMI >= 30 (crude estimate) (%) - Sex: both sexes - Age group: 18+  years'],\n",
      "      dtype='object')\n"
     ]
    },
    {
     "data": {
      "text/html": [
       "<div>\n",
       "<style scoped>\n",
       "    .dataframe tbody tr th:only-of-type {\n",
       "        vertical-align: middle;\n",
       "    }\n",
       "\n",
       "    .dataframe tbody tr th {\n",
       "        vertical-align: top;\n",
       "    }\n",
       "\n",
       "    .dataframe thead th {\n",
       "        text-align: right;\n",
       "    }\n",
       "</style>\n",
       "<table border=\"1\" class=\"dataframe\">\n",
       "  <thead>\n",
       "    <tr style=\"text-align: right;\">\n",
       "      <th></th>\n",
       "      <th>Country</th>\n",
       "      <th>Code</th>\n",
       "      <th>Year</th>\n",
       "      <th>obesity_rates</th>\n",
       "    </tr>\n",
       "  </thead>\n",
       "  <tbody>\n",
       "    <tr>\n",
       "      <th>0</th>\n",
       "      <td>Afghanistan</td>\n",
       "      <td>AFG</td>\n",
       "      <td>2016</td>\n",
       "      <td>4.5</td>\n",
       "    </tr>\n",
       "    <tr>\n",
       "      <th>1</th>\n",
       "      <td>Africa (WHO)</td>\n",
       "      <td>NaN</td>\n",
       "      <td>2016</td>\n",
       "      <td>9.1</td>\n",
       "    </tr>\n",
       "    <tr>\n",
       "      <th>2</th>\n",
       "      <td>Albania</td>\n",
       "      <td>ALB</td>\n",
       "      <td>2016</td>\n",
       "      <td>22.3</td>\n",
       "    </tr>\n",
       "    <tr>\n",
       "      <th>3</th>\n",
       "      <td>Algeria</td>\n",
       "      <td>DZA</td>\n",
       "      <td>2016</td>\n",
       "      <td>26.6</td>\n",
       "    </tr>\n",
       "    <tr>\n",
       "      <th>4</th>\n",
       "      <td>Americas (WHO)</td>\n",
       "      <td>NaN</td>\n",
       "      <td>2016</td>\n",
       "      <td>29.0</td>\n",
       "    </tr>\n",
       "  </tbody>\n",
       "</table>\n",
       "</div>"
      ],
      "text/plain": [
       "          Country Code  Year  obesity_rates\n",
       "0     Afghanistan  AFG  2016            4.5\n",
       "1    Africa (WHO)  NaN  2016            9.1\n",
       "2         Albania  ALB  2016           22.3\n",
       "3         Algeria  DZA  2016           26.6\n",
       "4  Americas (WHO)  NaN  2016           29.0"
      ]
     },
     "execution_count": 214,
     "metadata": {},
     "output_type": "execute_result"
    }
   ],
   "source": [
    "print(df.columns)\n",
    "\n",
    "# Change column names\n",
    "df.rename(columns={'Prevalence of obesity among adults, BMI >= 30 (crude estimate) (%) - Sex: both sexes - Age group: 18+  years':\n",
    "                   'obesity_rates', 'Entity':'Country'}, inplace=True)\n",
    "\n",
    "\n",
    "# Filter rows where the year is 2016\n",
    "df_2016 = df[df['Year'] == 2016].reset_index()\n",
    "df_2016.drop('index', axis=1, inplace=True)\n",
    "df_2016.head()\n"
   ]
  },
  {
   "cell_type": "code",
   "execution_count": 215,
   "metadata": {},
   "outputs": [
    {
     "name": "stdout",
     "output_type": "stream",
     "text": [
      "<class 'pandas.core.frame.DataFrame'>\n",
      "RangeIndex: 197 entries, 0 to 196\n",
      "Data columns (total 4 columns):\n",
      " #   Column         Non-Null Count  Dtype  \n",
      "---  ------         --------------  -----  \n",
      " 0   Country        197 non-null    object \n",
      " 1   Code           190 non-null    object \n",
      " 2   Year           197 non-null    int64  \n",
      " 3   obesity_rates  197 non-null    float64\n",
      "dtypes: float64(1), int64(1), object(2)\n",
      "memory usage: 6.3+ KB\n"
     ]
    }
   ],
   "source": [
    "df_2016.info()"
   ]
  },
  {
   "cell_type": "code",
   "execution_count": 216,
   "metadata": {},
   "outputs": [
    {
     "name": "stdout",
     "output_type": "stream",
     "text": [
      "                         Country Code  Year  obesity_rates\n",
      "1                   Africa (WHO)  NaN  2016            9.1\n",
      "4                 Americas (WHO)  NaN  2016           29.0\n",
      "54   Eastern Mediterranean (WHO)  NaN  2016           19.5\n",
      "63                  Europe (WHO)  NaN  2016           25.3\n",
      "165        South-East Asia (WHO)  NaN  2016            4.6\n",
      "168               Sudan (former)  NaN  2016            7.4\n",
      "193        Western Pacific (WHO)  NaN  2016            6.7\n"
     ]
    }
   ],
   "source": [
    "# Filter NaN\n",
    "nan_rows = df_2016[df_2016['Code'].isna()]\n",
    "\n",
    "print(nan_rows)"
   ]
  },
  {
   "cell_type": "code",
   "execution_count": 217,
   "metadata": {},
   "outputs": [
    {
     "name": "stdout",
     "output_type": "stream",
     "text": [
      "<class 'pandas.core.frame.DataFrame'>\n",
      "Index: 190 entries, 0 to 196\n",
      "Data columns (total 4 columns):\n",
      " #   Column         Non-Null Count  Dtype  \n",
      "---  ------         --------------  -----  \n",
      " 0   Country        190 non-null    object \n",
      " 1   Code           190 non-null    object \n",
      " 2   Year           190 non-null    int64  \n",
      " 3   obesity_rates  190 non-null    float64\n",
      "dtypes: float64(1), int64(1), object(2)\n",
      "memory usage: 7.4+ KB\n"
     ]
    }
   ],
   "source": [
    "# Drop rows with NaN as they are regional data\n",
    "df_2016.dropna(inplace=True)\n",
    "df_2016.info()"
   ]
  },
  {
   "cell_type": "code",
   "execution_count": 218,
   "metadata": {},
   "outputs": [
    {
     "data": {
      "text/html": [
       "<div>\n",
       "<style scoped>\n",
       "    .dataframe tbody tr th:only-of-type {\n",
       "        vertical-align: middle;\n",
       "    }\n",
       "\n",
       "    .dataframe tbody tr th {\n",
       "        vertical-align: top;\n",
       "    }\n",
       "\n",
       "    .dataframe thead th {\n",
       "        text-align: right;\n",
       "    }\n",
       "</style>\n",
       "<table border=\"1\" class=\"dataframe\">\n",
       "  <thead>\n",
       "    <tr style=\"text-align: right;\">\n",
       "      <th></th>\n",
       "      <th>Country</th>\n",
       "      <th>Code</th>\n",
       "      <th>Year</th>\n",
       "      <th>obesity_rates</th>\n",
       "    </tr>\n",
       "  </thead>\n",
       "  <tbody>\n",
       "    <tr>\n",
       "      <th>0</th>\n",
       "      <td>Afghanistan</td>\n",
       "      <td>AFG</td>\n",
       "      <td>2016</td>\n",
       "      <td>4.5</td>\n",
       "    </tr>\n",
       "    <tr>\n",
       "      <th>2</th>\n",
       "      <td>Albania</td>\n",
       "      <td>ALB</td>\n",
       "      <td>2016</td>\n",
       "      <td>22.3</td>\n",
       "    </tr>\n",
       "    <tr>\n",
       "      <th>3</th>\n",
       "      <td>Algeria</td>\n",
       "      <td>DZA</td>\n",
       "      <td>2016</td>\n",
       "      <td>26.6</td>\n",
       "    </tr>\n",
       "    <tr>\n",
       "      <th>5</th>\n",
       "      <td>Andorra</td>\n",
       "      <td>AND</td>\n",
       "      <td>2016</td>\n",
       "      <td>28.0</td>\n",
       "    </tr>\n",
       "    <tr>\n",
       "      <th>6</th>\n",
       "      <td>Angola</td>\n",
       "      <td>AGO</td>\n",
       "      <td>2016</td>\n",
       "      <td>6.8</td>\n",
       "    </tr>\n",
       "  </tbody>\n",
       "</table>\n",
       "</div>"
      ],
      "text/plain": [
       "       Country Code  Year  obesity_rates\n",
       "0  Afghanistan  AFG  2016            4.5\n",
       "2      Albania  ALB  2016           22.3\n",
       "3      Algeria  DZA  2016           26.6\n",
       "5      Andorra  AND  2016           28.0\n",
       "6       Angola  AGO  2016            6.8"
      ]
     },
     "execution_count": 218,
     "metadata": {},
     "output_type": "execute_result"
    }
   ],
   "source": [
    "df_2016.head()"
   ]
  },
  {
   "cell_type": "code",
   "execution_count": 219,
   "metadata": {},
   "outputs": [],
   "source": [
    "# create copy of data\n",
    "obesity_rates_2016 = df_2016.copy()"
   ]
  },
  {
   "cell_type": "code",
   "execution_count": 220,
   "metadata": {},
   "outputs": [
    {
     "data": {
      "text/html": [
       "<div>\n",
       "<style scoped>\n",
       "    .dataframe tbody tr th:only-of-type {\n",
       "        vertical-align: middle;\n",
       "    }\n",
       "\n",
       "    .dataframe tbody tr th {\n",
       "        vertical-align: top;\n",
       "    }\n",
       "\n",
       "    .dataframe thead th {\n",
       "        text-align: right;\n",
       "    }\n",
       "</style>\n",
       "<table border=\"1\" class=\"dataframe\">\n",
       "  <thead>\n",
       "    <tr style=\"text-align: right;\">\n",
       "      <th></th>\n",
       "      <th>Entity</th>\n",
       "      <th>Code</th>\n",
       "      <th>Year</th>\n",
       "      <th>Registered vehicles per 1,000 people</th>\n",
       "    </tr>\n",
       "  </thead>\n",
       "  <tbody>\n",
       "    <tr>\n",
       "      <th>0</th>\n",
       "      <td>Afghanistan</td>\n",
       "      <td>AFG</td>\n",
       "      <td>2013</td>\n",
       "      <td>20.724253</td>\n",
       "    </tr>\n",
       "    <tr>\n",
       "      <th>1</th>\n",
       "      <td>Albania</td>\n",
       "      <td>ALB</td>\n",
       "      <td>2016</td>\n",
       "      <td>194.317340</td>\n",
       "    </tr>\n",
       "    <tr>\n",
       "      <th>2</th>\n",
       "      <td>Antigua and Barbuda</td>\n",
       "      <td>ATG</td>\n",
       "      <td>2016</td>\n",
       "      <td>400.417880</td>\n",
       "    </tr>\n",
       "    <tr>\n",
       "      <th>3</th>\n",
       "      <td>Argentina</td>\n",
       "      <td>ARG</td>\n",
       "      <td>2016</td>\n",
       "      <td>492.788900</td>\n",
       "    </tr>\n",
       "    <tr>\n",
       "      <th>4</th>\n",
       "      <td>Australia</td>\n",
       "      <td>AUS</td>\n",
       "      <td>2016</td>\n",
       "      <td>753.237370</td>\n",
       "    </tr>\n",
       "  </tbody>\n",
       "</table>\n",
       "</div>"
      ],
      "text/plain": [
       "                Entity Code  Year  Registered vehicles per 1,000 people\n",
       "0          Afghanistan  AFG  2013                             20.724253\n",
       "1              Albania  ALB  2016                            194.317340\n",
       "2  Antigua and Barbuda  ATG  2016                            400.417880\n",
       "3            Argentina  ARG  2016                            492.788900\n",
       "4            Australia  AUS  2016                            753.237370"
      ]
     },
     "execution_count": 220,
     "metadata": {},
     "output_type": "execute_result"
    }
   ],
   "source": [
    "# upload vehicle data\n",
    "data = pd.read_csv('/Users/lizzieriordan/Desktop/health/registered-vehicles-per-1000-people/registered-vehicles-per-1000-people.csv')\n",
    "data.head()"
   ]
  },
  {
   "cell_type": "code",
   "execution_count": 221,
   "metadata": {},
   "outputs": [
    {
     "name": "stdout",
     "output_type": "stream",
     "text": [
      "<class 'pandas.core.frame.DataFrame'>\n",
      "RangeIndex: 161 entries, 0 to 160\n",
      "Data columns (total 4 columns):\n",
      " #   Column                                Non-Null Count  Dtype  \n",
      "---  ------                                --------------  -----  \n",
      " 0   Entity                                161 non-null    object \n",
      " 1   Code                                  161 non-null    object \n",
      " 2   Year                                  161 non-null    int64  \n",
      " 3   Registered vehicles per 1,000 people  161 non-null    float64\n",
      "dtypes: float64(1), int64(1), object(2)\n",
      "memory usage: 5.2+ KB\n"
     ]
    }
   ],
   "source": [
    "data.info()"
   ]
  },
  {
   "cell_type": "code",
   "execution_count": 222,
   "metadata": {},
   "outputs": [],
   "source": [
    "data.rename(columns={'Entity':'Country'}, inplace=True)"
   ]
  },
  {
   "cell_type": "code",
   "execution_count": 223,
   "metadata": {},
   "outputs": [
    {
     "data": {
      "text/plain": [
       "Year\n",
       "2016    112\n",
       "2015     27\n",
       "2017     12\n",
       "2014      4\n",
       "2013      3\n",
       "2012      2\n",
       "2007      1\n",
       "Name: count, dtype: int64"
      ]
     },
     "execution_count": 223,
     "metadata": {},
     "output_type": "execute_result"
    }
   ],
   "source": [
    "data['Year'].value_counts()"
   ]
  },
  {
   "cell_type": "code",
   "execution_count": 224,
   "metadata": {},
   "outputs": [
    {
     "data": {
      "text/html": [
       "<div>\n",
       "<style scoped>\n",
       "    .dataframe tbody tr th:only-of-type {\n",
       "        vertical-align: middle;\n",
       "    }\n",
       "\n",
       "    .dataframe tbody tr th {\n",
       "        vertical-align: top;\n",
       "    }\n",
       "\n",
       "    .dataframe thead th {\n",
       "        text-align: right;\n",
       "    }\n",
       "</style>\n",
       "<table border=\"1\" class=\"dataframe\">\n",
       "  <thead>\n",
       "    <tr style=\"text-align: right;\">\n",
       "      <th></th>\n",
       "      <th>Country</th>\n",
       "      <th>Code</th>\n",
       "      <th>Year</th>\n",
       "      <th>Registered vehicles per 1,000 people</th>\n",
       "    </tr>\n",
       "  </thead>\n",
       "  <tbody>\n",
       "    <tr>\n",
       "      <th>11</th>\n",
       "      <td>Belize</td>\n",
       "      <td>BLZ</td>\n",
       "      <td>2007</td>\n",
       "      <td>189.43188</td>\n",
       "    </tr>\n",
       "  </tbody>\n",
       "</table>\n",
       "</div>"
      ],
      "text/plain": [
       "   Country Code  Year  Registered vehicles per 1,000 people\n",
       "11  Belize  BLZ  2007                             189.43188"
      ]
     },
     "execution_count": 224,
     "metadata": {},
     "output_type": "execute_result"
    }
   ],
   "source": [
    "filtered_data = data[data['Year'] == 2007]\n",
    "filtered_data"
   ]
  },
  {
   "cell_type": "code",
   "execution_count": 225,
   "metadata": {},
   "outputs": [
    {
     "data": {
      "text/plain": [
       "Year\n",
       "2016    112\n",
       "2015     27\n",
       "2017     12\n",
       "2014      4\n",
       "2013      3\n",
       "2012      2\n",
       "Name: count, dtype: int64"
      ]
     },
     "execution_count": 225,
     "metadata": {},
     "output_type": "execute_result"
    }
   ],
   "source": [
    "# delete row from 2007 since it's out of scope\n",
    "data_cleaned = data.drop(data[data['Year'].isin([2007])].index)\n",
    "data_cleaned['Year'].value_counts()"
   ]
  },
  {
   "cell_type": "code",
   "execution_count": 226,
   "metadata": {},
   "outputs": [],
   "source": [
    "#create copy of data\n",
    "vehicle_data = data_cleaned.copy()"
   ]
  },
  {
   "cell_type": "code",
   "execution_count": 227,
   "metadata": {},
   "outputs": [
    {
     "data": {
      "text/html": [
       "<div>\n",
       "<style scoped>\n",
       "    .dataframe tbody tr th:only-of-type {\n",
       "        vertical-align: middle;\n",
       "    }\n",
       "\n",
       "    .dataframe tbody tr th {\n",
       "        vertical-align: top;\n",
       "    }\n",
       "\n",
       "    .dataframe thead th {\n",
       "        text-align: right;\n",
       "    }\n",
       "</style>\n",
       "<table border=\"1\" class=\"dataframe\">\n",
       "  <thead>\n",
       "    <tr style=\"text-align: right;\">\n",
       "      <th></th>\n",
       "      <th>Entity</th>\n",
       "      <th>Code</th>\n",
       "      <th>Year</th>\n",
       "      <th>Daily calorie supply per person from other commodities</th>\n",
       "      <th>Daily calorie supply per person from alcoholic beverages</th>\n",
       "      <th>Daily calorie supply per person from sugar</th>\n",
       "      <th>Daily calorie supply per person from oils and fats</th>\n",
       "      <th>Daily calorie supply per person from meat</th>\n",
       "      <th>Daily calorie supply per person from dairy and eggs</th>\n",
       "      <th>Daily calorie supply per person from fruits and vegetables</th>\n",
       "      <th>Daily calorie supply per person from starchy roots</th>\n",
       "      <th>Daily calorie supply per person from pulses</th>\n",
       "      <th>Daily calorie supply per person from cereals and grains</th>\n",
       "    </tr>\n",
       "  </thead>\n",
       "  <tbody>\n",
       "    <tr>\n",
       "      <th>0</th>\n",
       "      <td>Afghanistan</td>\n",
       "      <td>AFG</td>\n",
       "      <td>1961</td>\n",
       "      <td>12.223696</td>\n",
       "      <td>0.0</td>\n",
       "      <td>51.950710</td>\n",
       "      <td>93.715004</td>\n",
       "      <td>90.65908</td>\n",
       "      <td>103.901410</td>\n",
       "      <td>83.52859</td>\n",
       "      <td>25.466034</td>\n",
       "      <td>16.298262</td>\n",
       "      <td>2576.1440</td>\n",
       "    </tr>\n",
       "    <tr>\n",
       "      <th>1</th>\n",
       "      <td>Afghanistan</td>\n",
       "      <td>AFG</td>\n",
       "      <td>1962</td>\n",
       "      <td>13.250671</td>\n",
       "      <td>0.0</td>\n",
       "      <td>45.867710</td>\n",
       "      <td>99.889680</td>\n",
       "      <td>90.71613</td>\n",
       "      <td>102.947525</td>\n",
       "      <td>77.46546</td>\n",
       "      <td>22.424213</td>\n",
       "      <td>17.327800</td>\n",
       "      <td>2505.3962</td>\n",
       "    </tr>\n",
       "    <tr>\n",
       "      <th>2</th>\n",
       "      <td>Afghanistan</td>\n",
       "      <td>AFG</td>\n",
       "      <td>1963</td>\n",
       "      <td>13.259131</td>\n",
       "      <td>0.0</td>\n",
       "      <td>47.936860</td>\n",
       "      <td>108.112915</td>\n",
       "      <td>92.81392</td>\n",
       "      <td>112.192650</td>\n",
       "      <td>80.57472</td>\n",
       "      <td>23.458462</td>\n",
       "      <td>17.338863</td>\n",
       "      <td>2257.1120</td>\n",
       "    </tr>\n",
       "    <tr>\n",
       "      <th>3</th>\n",
       "      <td>Afghanistan</td>\n",
       "      <td>AFG</td>\n",
       "      <td>1964</td>\n",
       "      <td>14.286554</td>\n",
       "      <td>0.0</td>\n",
       "      <td>56.125748</td>\n",
       "      <td>104.087750</td>\n",
       "      <td>94.90354</td>\n",
       "      <td>112.251495</td>\n",
       "      <td>96.94447</td>\n",
       "      <td>24.491236</td>\n",
       "      <td>18.368427</td>\n",
       "      <td>2494.0242</td>\n",
       "    </tr>\n",
       "    <tr>\n",
       "      <th>4</th>\n",
       "      <td>Afghanistan</td>\n",
       "      <td>AFG</td>\n",
       "      <td>1965</td>\n",
       "      <td>14.292503</td>\n",
       "      <td>0.0</td>\n",
       "      <td>58.190907</td>\n",
       "      <td>107.193770</td>\n",
       "      <td>96.98485</td>\n",
       "      <td>120.465385</td>\n",
       "      <td>96.98485</td>\n",
       "      <td>24.501434</td>\n",
       "      <td>18.376076</td>\n",
       "      <td>2481.7913</td>\n",
       "    </tr>\n",
       "  </tbody>\n",
       "</table>\n",
       "</div>"
      ],
      "text/plain": [
       "        Entity Code  Year  \\\n",
       "0  Afghanistan  AFG  1961   \n",
       "1  Afghanistan  AFG  1962   \n",
       "2  Afghanistan  AFG  1963   \n",
       "3  Afghanistan  AFG  1964   \n",
       "4  Afghanistan  AFG  1965   \n",
       "\n",
       "   Daily calorie supply per person from other commodities  \\\n",
       "0                                          12.223696        \n",
       "1                                          13.250671        \n",
       "2                                          13.259131        \n",
       "3                                          14.286554        \n",
       "4                                          14.292503        \n",
       "\n",
       "   Daily calorie supply per person from alcoholic beverages  \\\n",
       "0                                                0.0          \n",
       "1                                                0.0          \n",
       "2                                                0.0          \n",
       "3                                                0.0          \n",
       "4                                                0.0          \n",
       "\n",
       "   Daily calorie supply per person from sugar  \\\n",
       "0                                   51.950710   \n",
       "1                                   45.867710   \n",
       "2                                   47.936860   \n",
       "3                                   56.125748   \n",
       "4                                   58.190907   \n",
       "\n",
       "   Daily calorie supply per person from oils and fats  \\\n",
       "0                                          93.715004    \n",
       "1                                          99.889680    \n",
       "2                                         108.112915    \n",
       "3                                         104.087750    \n",
       "4                                         107.193770    \n",
       "\n",
       "   Daily calorie supply per person from meat  \\\n",
       "0                                   90.65908   \n",
       "1                                   90.71613   \n",
       "2                                   92.81392   \n",
       "3                                   94.90354   \n",
       "4                                   96.98485   \n",
       "\n",
       "   Daily calorie supply per person from dairy and eggs  \\\n",
       "0                                         103.901410     \n",
       "1                                         102.947525     \n",
       "2                                         112.192650     \n",
       "3                                         112.251495     \n",
       "4                                         120.465385     \n",
       "\n",
       "   Daily calorie supply per person from fruits and vegetables  \\\n",
       "0                                           83.52859            \n",
       "1                                           77.46546            \n",
       "2                                           80.57472            \n",
       "3                                           96.94447            \n",
       "4                                           96.98485            \n",
       "\n",
       "   Daily calorie supply per person from starchy roots  \\\n",
       "0                                          25.466034    \n",
       "1                                          22.424213    \n",
       "2                                          23.458462    \n",
       "3                                          24.491236    \n",
       "4                                          24.501434    \n",
       "\n",
       "   Daily calorie supply per person from pulses  \\\n",
       "0                                    16.298262   \n",
       "1                                    17.327800   \n",
       "2                                    17.338863   \n",
       "3                                    18.368427   \n",
       "4                                    18.376076   \n",
       "\n",
       "   Daily calorie supply per person from cereals and grains  \n",
       "0                                          2576.1440        \n",
       "1                                          2505.3962        \n",
       "2                                          2257.1120        \n",
       "3                                          2494.0242        \n",
       "4                                          2481.7913        "
      ]
     },
     "execution_count": 227,
     "metadata": {},
     "output_type": "execute_result"
    }
   ],
   "source": [
    "# import caloric intake data\n",
    "cal_df = pd.read_csv('/Users/lizzieriordan/Desktop/health/dietary-compositions-by-commodity-group (1)/dietary-compositions-by-commodity-group.csv')\n",
    "cal_df.head()"
   ]
  },
  {
   "cell_type": "code",
   "execution_count": 239,
   "metadata": {},
   "outputs": [
    {
     "data": {
      "text/html": [
       "<div>\n",
       "<style scoped>\n",
       "    .dataframe tbody tr th:only-of-type {\n",
       "        vertical-align: middle;\n",
       "    }\n",
       "\n",
       "    .dataframe tbody tr th {\n",
       "        vertical-align: top;\n",
       "    }\n",
       "\n",
       "    .dataframe thead th {\n",
       "        text-align: right;\n",
       "    }\n",
       "</style>\n",
       "<table border=\"1\" class=\"dataframe\">\n",
       "  <thead>\n",
       "    <tr style=\"text-align: right;\">\n",
       "      <th></th>\n",
       "      <th>Entity</th>\n",
       "      <th>Code</th>\n",
       "      <th>Year</th>\n",
       "      <th>Daily calorie supply per person from other commodities</th>\n",
       "      <th>Daily calorie supply per person from alcoholic beverages</th>\n",
       "      <th>Daily calorie supply per person from sugar</th>\n",
       "      <th>Daily calorie supply per person from oils and fats</th>\n",
       "      <th>Daily calorie supply per person from meat</th>\n",
       "      <th>Daily calorie supply per person from dairy and eggs</th>\n",
       "      <th>Daily calorie supply per person from fruits and vegetables</th>\n",
       "      <th>Daily calorie supply per person from starchy roots</th>\n",
       "      <th>Daily calorie supply per person from pulses</th>\n",
       "      <th>Daily calorie supply per person from cereals and grains</th>\n",
       "    </tr>\n",
       "  </thead>\n",
       "  <tbody>\n",
       "    <tr>\n",
       "      <th>0</th>\n",
       "      <td>Afghanistan</td>\n",
       "      <td>AFG</td>\n",
       "      <td>2016</td>\n",
       "      <td>11.000000</td>\n",
       "      <td>1.000000</td>\n",
       "      <td>113.00000</td>\n",
       "      <td>220.00000</td>\n",
       "      <td>53.00000</td>\n",
       "      <td>108.000000</td>\n",
       "      <td>108.00000</td>\n",
       "      <td>27.000000</td>\n",
       "      <td>25.00000</td>\n",
       "      <td>1581.0000</td>\n",
       "    </tr>\n",
       "    <tr>\n",
       "      <th>1</th>\n",
       "      <td>Africa</td>\n",
       "      <td>NaN</td>\n",
       "      <td>2016</td>\n",
       "      <td>21.903353</td>\n",
       "      <td>30.887436</td>\n",
       "      <td>161.78236</td>\n",
       "      <td>308.31763</td>\n",
       "      <td>101.46884</td>\n",
       "      <td>72.496605</td>\n",
       "      <td>154.94066</td>\n",
       "      <td>405.227140</td>\n",
       "      <td>96.61604</td>\n",
       "      <td>1212.8325</td>\n",
       "    </tr>\n",
       "    <tr>\n",
       "      <th>2</th>\n",
       "      <td>Africa (FAO)</td>\n",
       "      <td>NaN</td>\n",
       "      <td>2016</td>\n",
       "      <td>22.000000</td>\n",
       "      <td>31.000000</td>\n",
       "      <td>159.00000</td>\n",
       "      <td>308.00000</td>\n",
       "      <td>102.00000</td>\n",
       "      <td>73.000000</td>\n",
       "      <td>155.00000</td>\n",
       "      <td>405.000000</td>\n",
       "      <td>97.00000</td>\n",
       "      <td>1213.0000</td>\n",
       "    </tr>\n",
       "    <tr>\n",
       "      <th>3</th>\n",
       "      <td>Albania</td>\n",
       "      <td>ALB</td>\n",
       "      <td>2016</td>\n",
       "      <td>45.999940</td>\n",
       "      <td>58.999920</td>\n",
       "      <td>195.99973</td>\n",
       "      <td>403.99945</td>\n",
       "      <td>234.99968</td>\n",
       "      <td>718.999000</td>\n",
       "      <td>498.99933</td>\n",
       "      <td>81.999886</td>\n",
       "      <td>45.99994</td>\n",
       "      <td>1079.9985</td>\n",
       "    </tr>\n",
       "    <tr>\n",
       "      <th>4</th>\n",
       "      <td>Algeria</td>\n",
       "      <td>DZA</td>\n",
       "      <td>2016</td>\n",
       "      <td>39.000000</td>\n",
       "      <td>7.000000</td>\n",
       "      <td>291.00000</td>\n",
       "      <td>632.00000</td>\n",
       "      <td>112.00000</td>\n",
       "      <td>312.000000</td>\n",
       "      <td>392.00000</td>\n",
       "      <td>120.000000</td>\n",
       "      <td>63.00000</td>\n",
       "      <td>1488.0000</td>\n",
       "    </tr>\n",
       "  </tbody>\n",
       "</table>\n",
       "</div>"
      ],
      "text/plain": [
       "         Entity Code  Year  \\\n",
       "0   Afghanistan  AFG  2016   \n",
       "1        Africa  NaN  2016   \n",
       "2  Africa (FAO)  NaN  2016   \n",
       "3       Albania  ALB  2016   \n",
       "4       Algeria  DZA  2016   \n",
       "\n",
       "   Daily calorie supply per person from other commodities  \\\n",
       "0                                          11.000000        \n",
       "1                                          21.903353        \n",
       "2                                          22.000000        \n",
       "3                                          45.999940        \n",
       "4                                          39.000000        \n",
       "\n",
       "   Daily calorie supply per person from alcoholic beverages  \\\n",
       "0                                           1.000000          \n",
       "1                                          30.887436          \n",
       "2                                          31.000000          \n",
       "3                                          58.999920          \n",
       "4                                           7.000000          \n",
       "\n",
       "   Daily calorie supply per person from sugar  \\\n",
       "0                                   113.00000   \n",
       "1                                   161.78236   \n",
       "2                                   159.00000   \n",
       "3                                   195.99973   \n",
       "4                                   291.00000   \n",
       "\n",
       "   Daily calorie supply per person from oils and fats  \\\n",
       "0                                          220.00000    \n",
       "1                                          308.31763    \n",
       "2                                          308.00000    \n",
       "3                                          403.99945    \n",
       "4                                          632.00000    \n",
       "\n",
       "   Daily calorie supply per person from meat  \\\n",
       "0                                   53.00000   \n",
       "1                                  101.46884   \n",
       "2                                  102.00000   \n",
       "3                                  234.99968   \n",
       "4                                  112.00000   \n",
       "\n",
       "   Daily calorie supply per person from dairy and eggs  \\\n",
       "0                                         108.000000     \n",
       "1                                          72.496605     \n",
       "2                                          73.000000     \n",
       "3                                         718.999000     \n",
       "4                                         312.000000     \n",
       "\n",
       "   Daily calorie supply per person from fruits and vegetables  \\\n",
       "0                                          108.00000            \n",
       "1                                          154.94066            \n",
       "2                                          155.00000            \n",
       "3                                          498.99933            \n",
       "4                                          392.00000            \n",
       "\n",
       "   Daily calorie supply per person from starchy roots  \\\n",
       "0                                          27.000000    \n",
       "1                                         405.227140    \n",
       "2                                         405.000000    \n",
       "3                                          81.999886    \n",
       "4                                         120.000000    \n",
       "\n",
       "   Daily calorie supply per person from pulses  \\\n",
       "0                                     25.00000   \n",
       "1                                     96.61604   \n",
       "2                                     97.00000   \n",
       "3                                     45.99994   \n",
       "4                                     63.00000   \n",
       "\n",
       "   Daily calorie supply per person from cereals and grains  \n",
       "0                                          1581.0000        \n",
       "1                                          1212.8325        \n",
       "2                                          1213.0000        \n",
       "3                                          1079.9985        \n",
       "4                                          1488.0000        "
      ]
     },
     "execution_count": 239,
     "metadata": {},
     "output_type": "execute_result"
    }
   ],
   "source": [
    "# Filter rows where year is 2016\n",
    "calories = cal_df[cal_df['Year'] == 2016].reset_index()\n",
    "calories.drop('index', axis=1, inplace=True)\n",
    "calories.head()"
   ]
  },
  {
   "cell_type": "code",
   "execution_count": 240,
   "metadata": {},
   "outputs": [
    {
     "name": "stdout",
     "output_type": "stream",
     "text": [
      "<class 'pandas.core.frame.DataFrame'>\n",
      "RangeIndex: 222 entries, 0 to 221\n",
      "Data columns (total 13 columns):\n",
      " #   Column                                                      Non-Null Count  Dtype  \n",
      "---  ------                                                      --------------  -----  \n",
      " 0   Entity                                                      222 non-null    object \n",
      " 1   Code                                                        180 non-null    object \n",
      " 2   Year                                                        222 non-null    int64  \n",
      " 3   Daily calorie supply per person from other commodities      222 non-null    float64\n",
      " 4   Daily calorie supply per person from alcoholic beverages    220 non-null    float64\n",
      " 5   Daily calorie supply per person from sugar                  222 non-null    float64\n",
      " 6   Daily calorie supply per person from oils and fats          222 non-null    float64\n",
      " 7   Daily calorie supply per person from meat                   222 non-null    float64\n",
      " 8   Daily calorie supply per person from dairy and eggs         222 non-null    float64\n",
      " 9   Daily calorie supply per person from fruits and vegetables  222 non-null    float64\n",
      " 10  Daily calorie supply per person from starchy roots          222 non-null    float64\n",
      " 11  Daily calorie supply per person from pulses                 222 non-null    float64\n",
      " 12  Daily calorie supply per person from cereals and grains     222 non-null    float64\n",
      "dtypes: float64(10), int64(1), object(2)\n",
      "memory usage: 22.7+ KB\n"
     ]
    }
   ],
   "source": [
    "calories.info()"
   ]
  },
  {
   "cell_type": "code",
   "execution_count": 241,
   "metadata": {},
   "outputs": [
    {
     "data": {
      "text/plain": [
       "Entity                                                        0\n",
       "Code                                                          0\n",
       "Year                                                          0\n",
       "Daily calorie supply per person from other commodities        0\n",
       "Daily calorie supply per person from alcoholic beverages      2\n",
       "Daily calorie supply per person from sugar                    0\n",
       "Daily calorie supply per person from oils and fats            0\n",
       "Daily calorie supply per person from meat                     0\n",
       "Daily calorie supply per person from dairy and eggs           0\n",
       "Daily calorie supply per person from fruits and vegetables    0\n",
       "Daily calorie supply per person from starchy roots            0\n",
       "Daily calorie supply per person from pulses                   0\n",
       "Daily calorie supply per person from cereals and grains       0\n",
       "dtype: int64"
      ]
     },
     "execution_count": 241,
     "metadata": {},
     "output_type": "execute_result"
    }
   ],
   "source": [
    "# Drop na within code column\n",
    "calories.dropna(subset=['Code'], inplace=True)\n",
    "calories.isna().sum()"
   ]
  },
  {
   "cell_type": "code",
   "execution_count": 242,
   "metadata": {},
   "outputs": [
    {
     "data": {
      "text/plain": [
       "Index(['Entity', 'Code', 'Year',\n",
       "       'Daily calorie supply per person from other commodities',\n",
       "       'Daily calorie supply per person from alcoholic beverages',\n",
       "       'Daily calorie supply per person from sugar',\n",
       "       'Daily calorie supply per person from oils and fats',\n",
       "       'Daily calorie supply per person from meat',\n",
       "       'Daily calorie supply per person from dairy and eggs',\n",
       "       'Daily calorie supply per person from fruits and vegetables',\n",
       "       'Daily calorie supply per person from starchy roots',\n",
       "       'Daily calorie supply per person from pulses',\n",
       "       'Daily calorie supply per person from cereals and grains'],\n",
       "      dtype='object')"
      ]
     },
     "execution_count": 242,
     "metadata": {},
     "output_type": "execute_result"
    }
   ],
   "source": [
    "calories.columns"
   ]
  },
  {
   "cell_type": "code",
   "execution_count": 243,
   "metadata": {},
   "outputs": [
    {
     "data": {
      "text/html": [
       "<div>\n",
       "<style scoped>\n",
       "    .dataframe tbody tr th:only-of-type {\n",
       "        vertical-align: middle;\n",
       "    }\n",
       "\n",
       "    .dataframe tbody tr th {\n",
       "        vertical-align: top;\n",
       "    }\n",
       "\n",
       "    .dataframe thead th {\n",
       "        text-align: right;\n",
       "    }\n",
       "</style>\n",
       "<table border=\"1\" class=\"dataframe\">\n",
       "  <thead>\n",
       "    <tr style=\"text-align: right;\">\n",
       "      <th></th>\n",
       "      <th>Country</th>\n",
       "      <th>Code</th>\n",
       "      <th>Year</th>\n",
       "      <th>other_commodities</th>\n",
       "      <th>alcoholic_beverages</th>\n",
       "      <th>sugar</th>\n",
       "      <th>oils_fats</th>\n",
       "      <th>meat</th>\n",
       "      <th>dairy_eggs</th>\n",
       "      <th>fruits_vegetables</th>\n",
       "      <th>starchy_roots</th>\n",
       "      <th>pulses</th>\n",
       "      <th>cereals_grains</th>\n",
       "    </tr>\n",
       "  </thead>\n",
       "  <tbody>\n",
       "    <tr>\n",
       "      <th>0</th>\n",
       "      <td>Afghanistan</td>\n",
       "      <td>AFG</td>\n",
       "      <td>2016</td>\n",
       "      <td>11.000000</td>\n",
       "      <td>1.00000</td>\n",
       "      <td>113.00000</td>\n",
       "      <td>220.00000</td>\n",
       "      <td>53.00000</td>\n",
       "      <td>108.000000</td>\n",
       "      <td>108.00000</td>\n",
       "      <td>27.000000</td>\n",
       "      <td>25.000000</td>\n",
       "      <td>1581.00000</td>\n",
       "    </tr>\n",
       "    <tr>\n",
       "      <th>3</th>\n",
       "      <td>Albania</td>\n",
       "      <td>ALB</td>\n",
       "      <td>2016</td>\n",
       "      <td>45.999940</td>\n",
       "      <td>58.99992</td>\n",
       "      <td>195.99973</td>\n",
       "      <td>403.99945</td>\n",
       "      <td>234.99968</td>\n",
       "      <td>718.999000</td>\n",
       "      <td>498.99933</td>\n",
       "      <td>81.999886</td>\n",
       "      <td>45.999940</td>\n",
       "      <td>1079.99850</td>\n",
       "    </tr>\n",
       "    <tr>\n",
       "      <th>4</th>\n",
       "      <td>Algeria</td>\n",
       "      <td>DZA</td>\n",
       "      <td>2016</td>\n",
       "      <td>39.000000</td>\n",
       "      <td>7.00000</td>\n",
       "      <td>291.00000</td>\n",
       "      <td>632.00000</td>\n",
       "      <td>112.00000</td>\n",
       "      <td>312.000000</td>\n",
       "      <td>392.00000</td>\n",
       "      <td>120.000000</td>\n",
       "      <td>63.000000</td>\n",
       "      <td>1488.00000</td>\n",
       "    </tr>\n",
       "    <tr>\n",
       "      <th>6</th>\n",
       "      <td>Angola</td>\n",
       "      <td>AGO</td>\n",
       "      <td>2016</td>\n",
       "      <td>13.000004</td>\n",
       "      <td>81.00002</td>\n",
       "      <td>126.00004</td>\n",
       "      <td>353.00010</td>\n",
       "      <td>147.00005</td>\n",
       "      <td>23.000006</td>\n",
       "      <td>138.00003</td>\n",
       "      <td>757.000200</td>\n",
       "      <td>66.000015</td>\n",
       "      <td>726.00020</td>\n",
       "    </tr>\n",
       "    <tr>\n",
       "      <th>7</th>\n",
       "      <td>Antigua and Barbuda</td>\n",
       "      <td>ATG</td>\n",
       "      <td>2016</td>\n",
       "      <td>77.987076</td>\n",
       "      <td>123.97946</td>\n",
       "      <td>259.95694</td>\n",
       "      <td>424.92963</td>\n",
       "      <td>373.93805</td>\n",
       "      <td>185.969200</td>\n",
       "      <td>252.95810</td>\n",
       "      <td>44.992546</td>\n",
       "      <td>14.997516</td>\n",
       "      <td>635.89465</td>\n",
       "    </tr>\n",
       "  </tbody>\n",
       "</table>\n",
       "</div>"
      ],
      "text/plain": [
       "               Country Code  Year  other_commodities  alcoholic_beverages  \\\n",
       "0          Afghanistan  AFG  2016          11.000000              1.00000   \n",
       "3              Albania  ALB  2016          45.999940             58.99992   \n",
       "4              Algeria  DZA  2016          39.000000              7.00000   \n",
       "6               Angola  AGO  2016          13.000004             81.00002   \n",
       "7  Antigua and Barbuda  ATG  2016          77.987076            123.97946   \n",
       "\n",
       "       sugar  oils_fats       meat  dairy_eggs  fruits_vegetables  \\\n",
       "0  113.00000  220.00000   53.00000  108.000000          108.00000   \n",
       "3  195.99973  403.99945  234.99968  718.999000          498.99933   \n",
       "4  291.00000  632.00000  112.00000  312.000000          392.00000   \n",
       "6  126.00004  353.00010  147.00005   23.000006          138.00003   \n",
       "7  259.95694  424.92963  373.93805  185.969200          252.95810   \n",
       "\n",
       "   starchy_roots     pulses  cereals_grains  \n",
       "0      27.000000  25.000000      1581.00000  \n",
       "3      81.999886  45.999940      1079.99850  \n",
       "4     120.000000  63.000000      1488.00000  \n",
       "6     757.000200  66.000015       726.00020  \n",
       "7      44.992546  14.997516       635.89465  "
      ]
     },
     "execution_count": 243,
     "metadata": {},
     "output_type": "execute_result"
    }
   ],
   "source": [
    "# Rename columns\n",
    "calories.rename(columns={'Entity':'Country', \n",
    "                         'Daily calorie supply per person from other commodities':'other_commodities',\n",
    "                         'Daily calorie supply per person from alcoholic beverages':'alcoholic_beverages',\n",
    "                         'Daily calorie supply per person from sugar':'sugar',\n",
    "                         'Daily calorie supply per person from oils and fats':'oils_fats',\n",
    "                         'Daily calorie supply per person from meat':'meat',\n",
    "                         'Daily calorie supply per person from dairy and eggs':'dairy_eggs',\n",
    "                         'Daily calorie supply per person from fruits and vegetables':'fruits_vegetables',\n",
    "                         'Daily calorie supply per person from starchy roots':'starchy_roots',\n",
    "                         'Daily calorie supply per person from pulses':'pulses',\n",
    "                         'Daily calorie supply per person from cereals and grains':'cereals_grains'\n",
    "                         }, inplace=True)\n",
    "calories.head()"
   ]
  },
  {
   "cell_type": "code",
   "execution_count": 244,
   "metadata": {},
   "outputs": [
    {
     "data": {
      "text/html": [
       "<div>\n",
       "<style scoped>\n",
       "    .dataframe tbody tr th:only-of-type {\n",
       "        vertical-align: middle;\n",
       "    }\n",
       "\n",
       "    .dataframe tbody tr th {\n",
       "        vertical-align: top;\n",
       "    }\n",
       "\n",
       "    .dataframe thead th {\n",
       "        text-align: right;\n",
       "    }\n",
       "</style>\n",
       "<table border=\"1\" class=\"dataframe\">\n",
       "  <thead>\n",
       "    <tr style=\"text-align: right;\">\n",
       "      <th></th>\n",
       "      <th>Country</th>\n",
       "      <th>Code</th>\n",
       "      <th>Year</th>\n",
       "      <th>other_commodities</th>\n",
       "      <th>alcoholic_beverages</th>\n",
       "      <th>sugar</th>\n",
       "      <th>oils_fats</th>\n",
       "      <th>meat</th>\n",
       "      <th>dairy_eggs</th>\n",
       "      <th>fruits_vegetables</th>\n",
       "      <th>starchy_roots</th>\n",
       "      <th>pulses</th>\n",
       "      <th>cereals_grains</th>\n",
       "    </tr>\n",
       "  </thead>\n",
       "  <tbody>\n",
       "    <tr>\n",
       "      <th>0</th>\n",
       "      <td>Afghanistan</td>\n",
       "      <td>AFG</td>\n",
       "      <td>2016</td>\n",
       "      <td>11.00</td>\n",
       "      <td>1.00</td>\n",
       "      <td>113.00</td>\n",
       "      <td>220.00</td>\n",
       "      <td>53.00</td>\n",
       "      <td>108.00</td>\n",
       "      <td>108.00</td>\n",
       "      <td>27.00</td>\n",
       "      <td>25.0</td>\n",
       "      <td>1581.00</td>\n",
       "    </tr>\n",
       "    <tr>\n",
       "      <th>3</th>\n",
       "      <td>Albania</td>\n",
       "      <td>ALB</td>\n",
       "      <td>2016</td>\n",
       "      <td>46.00</td>\n",
       "      <td>59.00</td>\n",
       "      <td>196.00</td>\n",
       "      <td>404.00</td>\n",
       "      <td>235.00</td>\n",
       "      <td>719.00</td>\n",
       "      <td>499.00</td>\n",
       "      <td>82.00</td>\n",
       "      <td>46.0</td>\n",
       "      <td>1080.00</td>\n",
       "    </tr>\n",
       "    <tr>\n",
       "      <th>4</th>\n",
       "      <td>Algeria</td>\n",
       "      <td>DZA</td>\n",
       "      <td>2016</td>\n",
       "      <td>39.00</td>\n",
       "      <td>7.00</td>\n",
       "      <td>291.00</td>\n",
       "      <td>632.00</td>\n",
       "      <td>112.00</td>\n",
       "      <td>312.00</td>\n",
       "      <td>392.00</td>\n",
       "      <td>120.00</td>\n",
       "      <td>63.0</td>\n",
       "      <td>1488.00</td>\n",
       "    </tr>\n",
       "    <tr>\n",
       "      <th>6</th>\n",
       "      <td>Angola</td>\n",
       "      <td>AGO</td>\n",
       "      <td>2016</td>\n",
       "      <td>13.00</td>\n",
       "      <td>81.00</td>\n",
       "      <td>126.00</td>\n",
       "      <td>353.00</td>\n",
       "      <td>147.00</td>\n",
       "      <td>23.00</td>\n",
       "      <td>138.00</td>\n",
       "      <td>757.00</td>\n",
       "      <td>66.0</td>\n",
       "      <td>726.00</td>\n",
       "    </tr>\n",
       "    <tr>\n",
       "      <th>7</th>\n",
       "      <td>Antigua and Barbuda</td>\n",
       "      <td>ATG</td>\n",
       "      <td>2016</td>\n",
       "      <td>77.99</td>\n",
       "      <td>123.98</td>\n",
       "      <td>259.96</td>\n",
       "      <td>424.93</td>\n",
       "      <td>373.94</td>\n",
       "      <td>185.97</td>\n",
       "      <td>252.96</td>\n",
       "      <td>44.99</td>\n",
       "      <td>15.0</td>\n",
       "      <td>635.89</td>\n",
       "    </tr>\n",
       "  </tbody>\n",
       "</table>\n",
       "</div>"
      ],
      "text/plain": [
       "               Country Code  Year  other_commodities  alcoholic_beverages  \\\n",
       "0          Afghanistan  AFG  2016              11.00                 1.00   \n",
       "3              Albania  ALB  2016              46.00                59.00   \n",
       "4              Algeria  DZA  2016              39.00                 7.00   \n",
       "6               Angola  AGO  2016              13.00                81.00   \n",
       "7  Antigua and Barbuda  ATG  2016              77.99               123.98   \n",
       "\n",
       "    sugar  oils_fats    meat  dairy_eggs  fruits_vegetables  starchy_roots  \\\n",
       "0  113.00     220.00   53.00      108.00             108.00          27.00   \n",
       "3  196.00     404.00  235.00      719.00             499.00          82.00   \n",
       "4  291.00     632.00  112.00      312.00             392.00         120.00   \n",
       "6  126.00     353.00  147.00       23.00             138.00         757.00   \n",
       "7  259.96     424.93  373.94      185.97             252.96          44.99   \n",
       "\n",
       "   pulses  cereals_grains  \n",
       "0    25.0         1581.00  \n",
       "3    46.0         1080.00  \n",
       "4    63.0         1488.00  \n",
       "6    66.0          726.00  \n",
       "7    15.0          635.89  "
      ]
     },
     "execution_count": 244,
     "metadata": {},
     "output_type": "execute_result"
    }
   ],
   "source": [
    "# Round numerical values to 2 decimal places\n",
    "calories = calories.round(2)\n",
    "calories.head()"
   ]
  },
  {
   "cell_type": "code",
   "execution_count": 245,
   "metadata": {},
   "outputs": [
    {
     "data": {
      "text/html": [
       "<div>\n",
       "<style scoped>\n",
       "    .dataframe tbody tr th:only-of-type {\n",
       "        vertical-align: middle;\n",
       "    }\n",
       "\n",
       "    .dataframe tbody tr th {\n",
       "        vertical-align: top;\n",
       "    }\n",
       "\n",
       "    .dataframe thead th {\n",
       "        text-align: right;\n",
       "    }\n",
       "</style>\n",
       "<table border=\"1\" class=\"dataframe\">\n",
       "  <thead>\n",
       "    <tr style=\"text-align: right;\">\n",
       "      <th></th>\n",
       "      <th>Country</th>\n",
       "      <th>Code</th>\n",
       "      <th>Year</th>\n",
       "      <th>other_commodities</th>\n",
       "      <th>alcoholic_beverages</th>\n",
       "      <th>sugar</th>\n",
       "      <th>oils_fats</th>\n",
       "      <th>meat</th>\n",
       "      <th>dairy_eggs</th>\n",
       "      <th>fruits_vegetables</th>\n",
       "      <th>starchy_roots</th>\n",
       "      <th>pulses</th>\n",
       "      <th>cereals_grains</th>\n",
       "      <th>total_avg_calories</th>\n",
       "    </tr>\n",
       "  </thead>\n",
       "  <tbody>\n",
       "    <tr>\n",
       "      <th>0</th>\n",
       "      <td>Afghanistan</td>\n",
       "      <td>AFG</td>\n",
       "      <td>2016</td>\n",
       "      <td>11.00</td>\n",
       "      <td>1.00</td>\n",
       "      <td>113.00</td>\n",
       "      <td>220.00</td>\n",
       "      <td>53.00</td>\n",
       "      <td>108.00</td>\n",
       "      <td>108.00</td>\n",
       "      <td>27.00</td>\n",
       "      <td>25.0</td>\n",
       "      <td>1581.00</td>\n",
       "      <td>2247.00</td>\n",
       "    </tr>\n",
       "    <tr>\n",
       "      <th>3</th>\n",
       "      <td>Albania</td>\n",
       "      <td>ALB</td>\n",
       "      <td>2016</td>\n",
       "      <td>46.00</td>\n",
       "      <td>59.00</td>\n",
       "      <td>196.00</td>\n",
       "      <td>404.00</td>\n",
       "      <td>235.00</td>\n",
       "      <td>719.00</td>\n",
       "      <td>499.00</td>\n",
       "      <td>82.00</td>\n",
       "      <td>46.0</td>\n",
       "      <td>1080.00</td>\n",
       "      <td>3366.00</td>\n",
       "    </tr>\n",
       "    <tr>\n",
       "      <th>4</th>\n",
       "      <td>Algeria</td>\n",
       "      <td>DZA</td>\n",
       "      <td>2016</td>\n",
       "      <td>39.00</td>\n",
       "      <td>7.00</td>\n",
       "      <td>291.00</td>\n",
       "      <td>632.00</td>\n",
       "      <td>112.00</td>\n",
       "      <td>312.00</td>\n",
       "      <td>392.00</td>\n",
       "      <td>120.00</td>\n",
       "      <td>63.0</td>\n",
       "      <td>1488.00</td>\n",
       "      <td>3456.00</td>\n",
       "    </tr>\n",
       "    <tr>\n",
       "      <th>6</th>\n",
       "      <td>Angola</td>\n",
       "      <td>AGO</td>\n",
       "      <td>2016</td>\n",
       "      <td>13.00</td>\n",
       "      <td>81.00</td>\n",
       "      <td>126.00</td>\n",
       "      <td>353.00</td>\n",
       "      <td>147.00</td>\n",
       "      <td>23.00</td>\n",
       "      <td>138.00</td>\n",
       "      <td>757.00</td>\n",
       "      <td>66.0</td>\n",
       "      <td>726.00</td>\n",
       "      <td>2430.00</td>\n",
       "    </tr>\n",
       "    <tr>\n",
       "      <th>7</th>\n",
       "      <td>Antigua and Barbuda</td>\n",
       "      <td>ATG</td>\n",
       "      <td>2016</td>\n",
       "      <td>77.99</td>\n",
       "      <td>123.98</td>\n",
       "      <td>259.96</td>\n",
       "      <td>424.93</td>\n",
       "      <td>373.94</td>\n",
       "      <td>185.97</td>\n",
       "      <td>252.96</td>\n",
       "      <td>44.99</td>\n",
       "      <td>15.0</td>\n",
       "      <td>635.89</td>\n",
       "      <td>2395.61</td>\n",
       "    </tr>\n",
       "  </tbody>\n",
       "</table>\n",
       "</div>"
      ],
      "text/plain": [
       "               Country Code  Year  other_commodities  alcoholic_beverages  \\\n",
       "0          Afghanistan  AFG  2016              11.00                 1.00   \n",
       "3              Albania  ALB  2016              46.00                59.00   \n",
       "4              Algeria  DZA  2016              39.00                 7.00   \n",
       "6               Angola  AGO  2016              13.00                81.00   \n",
       "7  Antigua and Barbuda  ATG  2016              77.99               123.98   \n",
       "\n",
       "    sugar  oils_fats    meat  dairy_eggs  fruits_vegetables  starchy_roots  \\\n",
       "0  113.00     220.00   53.00      108.00             108.00          27.00   \n",
       "3  196.00     404.00  235.00      719.00             499.00          82.00   \n",
       "4  291.00     632.00  112.00      312.00             392.00         120.00   \n",
       "6  126.00     353.00  147.00       23.00             138.00         757.00   \n",
       "7  259.96     424.93  373.94      185.97             252.96          44.99   \n",
       "\n",
       "   pulses  cereals_grains  total_avg_calories  \n",
       "0    25.0         1581.00             2247.00  \n",
       "3    46.0         1080.00             3366.00  \n",
       "4    63.0         1488.00             3456.00  \n",
       "6    66.0          726.00             2430.00  \n",
       "7    15.0          635.89             2395.61  "
      ]
     },
     "execution_count": 245,
     "metadata": {},
     "output_type": "execute_result"
    }
   ],
   "source": [
    "calories['total_avg_calories'] = calories.iloc[:, 3:].sum(axis=1)\n",
    "calories.head()"
   ]
  },
  {
   "cell_type": "code",
   "execution_count": 246,
   "metadata": {},
   "outputs": [],
   "source": [
    "# Create copy of data\n",
    "caloric_intake = calories.copy()"
   ]
  },
  {
   "cell_type": "code",
   "execution_count": 185,
   "metadata": {},
   "outputs": [
    {
     "data": {
      "text/html": [
       "<div>\n",
       "<style scoped>\n",
       "    .dataframe tbody tr th:only-of-type {\n",
       "        vertical-align: middle;\n",
       "    }\n",
       "\n",
       "    .dataframe tbody tr th {\n",
       "        vertical-align: top;\n",
       "    }\n",
       "\n",
       "    .dataframe thead th {\n",
       "        text-align: right;\n",
       "    }\n",
       "</style>\n",
       "<table border=\"1\" class=\"dataframe\">\n",
       "  <thead>\n",
       "    <tr style=\"text-align: right;\">\n",
       "      <th></th>\n",
       "      <th>Entity</th>\n",
       "      <th>Code</th>\n",
       "      <th>Year</th>\n",
       "      <th>Human Development Index</th>\n",
       "    </tr>\n",
       "  </thead>\n",
       "  <tbody>\n",
       "    <tr>\n",
       "      <th>0</th>\n",
       "      <td>Afghanistan</td>\n",
       "      <td>AFG</td>\n",
       "      <td>1990</td>\n",
       "      <td>0.284</td>\n",
       "    </tr>\n",
       "    <tr>\n",
       "      <th>1</th>\n",
       "      <td>Afghanistan</td>\n",
       "      <td>AFG</td>\n",
       "      <td>1991</td>\n",
       "      <td>0.292</td>\n",
       "    </tr>\n",
       "    <tr>\n",
       "      <th>2</th>\n",
       "      <td>Afghanistan</td>\n",
       "      <td>AFG</td>\n",
       "      <td>1992</td>\n",
       "      <td>0.299</td>\n",
       "    </tr>\n",
       "    <tr>\n",
       "      <th>3</th>\n",
       "      <td>Afghanistan</td>\n",
       "      <td>AFG</td>\n",
       "      <td>1993</td>\n",
       "      <td>0.307</td>\n",
       "    </tr>\n",
       "    <tr>\n",
       "      <th>4</th>\n",
       "      <td>Afghanistan</td>\n",
       "      <td>AFG</td>\n",
       "      <td>1994</td>\n",
       "      <td>0.300</td>\n",
       "    </tr>\n",
       "  </tbody>\n",
       "</table>\n",
       "</div>"
      ],
      "text/plain": [
       "        Entity Code  Year  Human Development Index\n",
       "0  Afghanistan  AFG  1990                    0.284\n",
       "1  Afghanistan  AFG  1991                    0.292\n",
       "2  Afghanistan  AFG  1992                    0.299\n",
       "3  Afghanistan  AFG  1993                    0.307\n",
       "4  Afghanistan  AFG  1994                    0.300"
      ]
     },
     "execution_count": 185,
     "metadata": {},
     "output_type": "execute_result"
    }
   ],
   "source": [
    "# import HDI data\n",
    "hdi = pd.read_csv('/Users/lizzieriordan/Desktop/health/human-development-index.filtered/human-development-index.csv')\n",
    "hdi.head()"
   ]
  },
  {
   "cell_type": "code",
   "execution_count": 186,
   "metadata": {},
   "outputs": [
    {
     "data": {
      "text/html": [
       "<div>\n",
       "<style scoped>\n",
       "    .dataframe tbody tr th:only-of-type {\n",
       "        vertical-align: middle;\n",
       "    }\n",
       "\n",
       "    .dataframe tbody tr th {\n",
       "        vertical-align: top;\n",
       "    }\n",
       "\n",
       "    .dataframe thead th {\n",
       "        text-align: right;\n",
       "    }\n",
       "</style>\n",
       "<table border=\"1\" class=\"dataframe\">\n",
       "  <thead>\n",
       "    <tr style=\"text-align: right;\">\n",
       "      <th></th>\n",
       "      <th>Entity</th>\n",
       "      <th>Code</th>\n",
       "      <th>Year</th>\n",
       "      <th>Human Development Index</th>\n",
       "    </tr>\n",
       "  </thead>\n",
       "  <tbody>\n",
       "    <tr>\n",
       "      <th>0</th>\n",
       "      <td>Afghanistan</td>\n",
       "      <td>AFG</td>\n",
       "      <td>2016</td>\n",
       "      <td>0.483000</td>\n",
       "    </tr>\n",
       "    <tr>\n",
       "      <th>1</th>\n",
       "      <td>Africa</td>\n",
       "      <td>NaN</td>\n",
       "      <td>2016</td>\n",
       "      <td>0.539463</td>\n",
       "    </tr>\n",
       "    <tr>\n",
       "      <th>2</th>\n",
       "      <td>Albania</td>\n",
       "      <td>ALB</td>\n",
       "      <td>2016</td>\n",
       "      <td>0.795000</td>\n",
       "    </tr>\n",
       "    <tr>\n",
       "      <th>3</th>\n",
       "      <td>Algeria</td>\n",
       "      <td>DZA</td>\n",
       "      <td>2016</td>\n",
       "      <td>0.738000</td>\n",
       "    </tr>\n",
       "    <tr>\n",
       "      <th>4</th>\n",
       "      <td>Andorra</td>\n",
       "      <td>AND</td>\n",
       "      <td>2016</td>\n",
       "      <td>0.859000</td>\n",
       "    </tr>\n",
       "  </tbody>\n",
       "</table>\n",
       "</div>"
      ],
      "text/plain": [
       "        Entity Code  Year  Human Development Index\n",
       "0  Afghanistan  AFG  2016                 0.483000\n",
       "1       Africa  NaN  2016                 0.539463\n",
       "2      Albania  ALB  2016                 0.795000\n",
       "3      Algeria  DZA  2016                 0.738000\n",
       "4      Andorra  AND  2016                 0.859000"
      ]
     },
     "execution_count": 186,
     "metadata": {},
     "output_type": "execute_result"
    }
   ],
   "source": [
    "# Filter rows where year is 2016\n",
    "hdi_2016 = hdi[hdi['Year'] == 2016].reset_index()\n",
    "hdi_2016.drop('index', axis=1, inplace=True)\n",
    "hdi_2016.head()"
   ]
  },
  {
   "cell_type": "code",
   "execution_count": 187,
   "metadata": {},
   "outputs": [
    {
     "data": {
      "text/plain": [
       "Entity                     0\n",
       "Code                       0\n",
       "Year                       0\n",
       "Human Development Index    0\n",
       "dtype: int64"
      ]
     },
     "execution_count": 187,
     "metadata": {},
     "output_type": "execute_result"
    }
   ],
   "source": [
    "# Drop na within code column\n",
    "hdi_2016.dropna(subset=['Code'], inplace=True)\n",
    "hdi_2016.isna().sum()"
   ]
  },
  {
   "cell_type": "code",
   "execution_count": 188,
   "metadata": {},
   "outputs": [
    {
     "data": {
      "text/html": [
       "<div>\n",
       "<style scoped>\n",
       "    .dataframe tbody tr th:only-of-type {\n",
       "        vertical-align: middle;\n",
       "    }\n",
       "\n",
       "    .dataframe tbody tr th {\n",
       "        vertical-align: top;\n",
       "    }\n",
       "\n",
       "    .dataframe thead th {\n",
       "        text-align: right;\n",
       "    }\n",
       "</style>\n",
       "<table border=\"1\" class=\"dataframe\">\n",
       "  <thead>\n",
       "    <tr style=\"text-align: right;\">\n",
       "      <th></th>\n",
       "      <th>Country</th>\n",
       "      <th>Code</th>\n",
       "      <th>Year</th>\n",
       "      <th>HDI</th>\n",
       "    </tr>\n",
       "  </thead>\n",
       "  <tbody>\n",
       "    <tr>\n",
       "      <th>0</th>\n",
       "      <td>Afghanistan</td>\n",
       "      <td>AFG</td>\n",
       "      <td>2016</td>\n",
       "      <td>0.48</td>\n",
       "    </tr>\n",
       "    <tr>\n",
       "      <th>2</th>\n",
       "      <td>Albania</td>\n",
       "      <td>ALB</td>\n",
       "      <td>2016</td>\n",
       "      <td>0.80</td>\n",
       "    </tr>\n",
       "    <tr>\n",
       "      <th>3</th>\n",
       "      <td>Algeria</td>\n",
       "      <td>DZA</td>\n",
       "      <td>2016</td>\n",
       "      <td>0.74</td>\n",
       "    </tr>\n",
       "    <tr>\n",
       "      <th>4</th>\n",
       "      <td>Andorra</td>\n",
       "      <td>AND</td>\n",
       "      <td>2016</td>\n",
       "      <td>0.86</td>\n",
       "    </tr>\n",
       "    <tr>\n",
       "      <th>5</th>\n",
       "      <td>Angola</td>\n",
       "      <td>AGO</td>\n",
       "      <td>2016</td>\n",
       "      <td>0.60</td>\n",
       "    </tr>\n",
       "  </tbody>\n",
       "</table>\n",
       "</div>"
      ],
      "text/plain": [
       "       Country Code  Year   HDI\n",
       "0  Afghanistan  AFG  2016  0.48\n",
       "2      Albania  ALB  2016  0.80\n",
       "3      Algeria  DZA  2016  0.74\n",
       "4      Andorra  AND  2016  0.86\n",
       "5       Angola  AGO  2016  0.60"
      ]
     },
     "execution_count": 188,
     "metadata": {},
     "output_type": "execute_result"
    }
   ],
   "source": [
    "# Change column names and round decimal places\n",
    "hdi_2016.rename(columns={'Entity':'Country', 'Human Development Index':'HDI'}, inplace=True)\n",
    "hdi_2016 = hdi_2016.round(2)\n",
    "hdi_2016.head()"
   ]
  },
  {
   "cell_type": "code",
   "execution_count": 189,
   "metadata": {},
   "outputs": [],
   "source": [
    "# Create copy of data\n",
    "hdi_data = hdi_2016.copy()"
   ]
  },
  {
   "cell_type": "markdown",
   "metadata": {},
   "source": [
    "Visualization of datasets:\n",
    "\n",
    "- obesity_rates_2016\n",
    "\n",
    "- vehicle_data\n",
    "\n",
    "- caloric_intake\n",
    "\n",
    "- hdi_2016\n"
   ]
  },
  {
   "cell_type": "code",
   "execution_count": 190,
   "metadata": {},
   "outputs": [
    {
     "data": {
      "text/html": [
       "<div>\n",
       "<style scoped>\n",
       "    .dataframe tbody tr th:only-of-type {\n",
       "        vertical-align: middle;\n",
       "    }\n",
       "\n",
       "    .dataframe tbody tr th {\n",
       "        vertical-align: top;\n",
       "    }\n",
       "\n",
       "    .dataframe thead th {\n",
       "        text-align: right;\n",
       "    }\n",
       "</style>\n",
       "<table border=\"1\" class=\"dataframe\">\n",
       "  <thead>\n",
       "    <tr style=\"text-align: right;\">\n",
       "      <th></th>\n",
       "      <th>Country</th>\n",
       "      <th>Code</th>\n",
       "      <th>Year</th>\n",
       "      <th>obesity_rates</th>\n",
       "    </tr>\n",
       "  </thead>\n",
       "  <tbody>\n",
       "    <tr>\n",
       "      <th>0</th>\n",
       "      <td>Afghanistan</td>\n",
       "      <td>AFG</td>\n",
       "      <td>2016</td>\n",
       "      <td>4.5</td>\n",
       "    </tr>\n",
       "    <tr>\n",
       "      <th>2</th>\n",
       "      <td>Albania</td>\n",
       "      <td>ALB</td>\n",
       "      <td>2016</td>\n",
       "      <td>22.3</td>\n",
       "    </tr>\n",
       "    <tr>\n",
       "      <th>3</th>\n",
       "      <td>Algeria</td>\n",
       "      <td>DZA</td>\n",
       "      <td>2016</td>\n",
       "      <td>26.6</td>\n",
       "    </tr>\n",
       "    <tr>\n",
       "      <th>5</th>\n",
       "      <td>Andorra</td>\n",
       "      <td>AND</td>\n",
       "      <td>2016</td>\n",
       "      <td>28.0</td>\n",
       "    </tr>\n",
       "    <tr>\n",
       "      <th>6</th>\n",
       "      <td>Angola</td>\n",
       "      <td>AGO</td>\n",
       "      <td>2016</td>\n",
       "      <td>6.8</td>\n",
       "    </tr>\n",
       "  </tbody>\n",
       "</table>\n",
       "</div>"
      ],
      "text/plain": [
       "       Country Code  Year  obesity_rates\n",
       "0  Afghanistan  AFG  2016            4.5\n",
       "2      Albania  ALB  2016           22.3\n",
       "3      Algeria  DZA  2016           26.6\n",
       "5      Andorra  AND  2016           28.0\n",
       "6       Angola  AGO  2016            6.8"
      ]
     },
     "execution_count": 190,
     "metadata": {},
     "output_type": "execute_result"
    }
   ],
   "source": [
    "obesity_rates_2016.head()"
   ]
  },
  {
   "cell_type": "code",
   "execution_count": 191,
   "metadata": {},
   "outputs": [
    {
     "data": {
      "application/vnd.plotly.v1+json": {
       "config": {
        "plotlyServerURL": "https://plot.ly"
       },
       "data": [
        {
         "coloraxis": "coloraxis",
         "geo": "geo",
         "hovertemplate": "Country=%{location}<br>Obesity Rates (%)=%{z}<extra></extra>",
         "locationmode": "country names",
         "locations": [
          "Afghanistan",
          "Albania",
          "Algeria",
          "Andorra",
          "Angola",
          "Antigua and Barbuda",
          "Argentina",
          "Armenia",
          "Australia",
          "Austria",
          "Azerbaijan",
          "Bahamas",
          "Bahrain",
          "Bangladesh",
          "Barbados",
          "Belarus",
          "Belgium",
          "Belize",
          "Benin",
          "Bhutan",
          "Bolivia",
          "Bosnia and Herzegovina",
          "Botswana",
          "Brazil",
          "Brunei",
          "Bulgaria",
          "Burkina Faso",
          "Burundi",
          "Cambodia",
          "Cameroon",
          "Canada",
          "Cape Verde",
          "Central African Republic",
          "Chad",
          "Chile",
          "China",
          "Colombia",
          "Comoros",
          "Congo",
          "Cook Islands",
          "Costa Rica",
          "Cote d'Ivoire",
          "Croatia",
          "Cuba",
          "Cyprus",
          "Czechia",
          "Democratic Republic of Congo",
          "Denmark",
          "Djibouti",
          "Dominica",
          "Dominican Republic",
          "East Timor",
          "Ecuador",
          "Egypt",
          "El Salvador",
          "Equatorial Guinea",
          "Eritrea",
          "Estonia",
          "Eswatini",
          "Ethiopia",
          "Fiji",
          "Finland",
          "France",
          "Gabon",
          "Gambia",
          "Georgia",
          "Germany",
          "Ghana",
          "Greece",
          "Grenada",
          "Guatemala",
          "Guinea",
          "Guinea-Bissau",
          "Guyana",
          "Haiti",
          "Honduras",
          "Hungary",
          "Iceland",
          "India",
          "Indonesia",
          "Iran",
          "Iraq",
          "Ireland",
          "Israel",
          "Italy",
          "Jamaica",
          "Japan",
          "Jordan",
          "Kazakhstan",
          "Kenya",
          "Kiribati",
          "Kuwait",
          "Kyrgyzstan",
          "Laos",
          "Latvia",
          "Lebanon",
          "Lesotho",
          "Liberia",
          "Libya",
          "Lithuania",
          "Luxembourg",
          "Madagascar",
          "Malawi",
          "Malaysia",
          "Maldives",
          "Mali",
          "Malta",
          "Marshall Islands",
          "Mauritania",
          "Mauritius",
          "Mexico",
          "Micronesia (country)",
          "Moldova",
          "Mongolia",
          "Montenegro",
          "Morocco",
          "Mozambique",
          "Myanmar",
          "Namibia",
          "Nauru",
          "Nepal",
          "Netherlands",
          "New Zealand",
          "Nicaragua",
          "Niger",
          "Nigeria",
          "Niue",
          "North Korea",
          "North Macedonia",
          "Norway",
          "Oman",
          "Pakistan",
          "Palau",
          "Panama",
          "Papua New Guinea",
          "Paraguay",
          "Peru",
          "Philippines",
          "Poland",
          "Portugal",
          "Qatar",
          "Romania",
          "Russia",
          "Rwanda",
          "Saint Kitts and Nevis",
          "Saint Lucia",
          "Saint Vincent and the Grenadines",
          "Samoa",
          "Sao Tome and Principe",
          "Saudi Arabia",
          "Senegal",
          "Serbia",
          "Seychelles",
          "Sierra Leone",
          "Singapore",
          "Slovakia",
          "Slovenia",
          "Solomon Islands",
          "Somalia",
          "South Africa",
          "South Korea",
          "Spain",
          "Sri Lanka",
          "Suriname",
          "Sweden",
          "Switzerland",
          "Syria",
          "Tajikistan",
          "Tanzania",
          "Thailand",
          "Togo",
          "Tonga",
          "Trinidad and Tobago",
          "Tunisia",
          "Turkey",
          "Turkmenistan",
          "Tuvalu",
          "Uganda",
          "Ukraine",
          "United Arab Emirates",
          "United Kingdom",
          "United States",
          "Uruguay",
          "Uzbekistan",
          "Vanuatu",
          "Venezuela",
          "Vietnam",
          "Yemen",
          "Zambia",
          "Zimbabwe"
         ],
         "name": "",
         "type": "choropleth",
         "z": [
          4.5,
          22.3,
          26.6,
          28,
          6.8,
          19.1,
          28.5,
          20.9,
          30.4,
          21.9,
          19.9,
          32.1,
          28.7,
          3.4,
          24.8,
          26.6,
          24.5,
          22.4,
          8.2,
          5.8,
          18.7,
          19.4,
          16.1,
          22.3,
          14.7,
          27.4,
          4.5,
          4.4,
          3.5,
          9.5,
          31.3,
          10.6,
          6.3,
          4.8,
          28.8,
          6.6,
          22.1,
          6.9,
          8.4,
          55.3,
          25.7,
          9,
          27.1,
          26.7,
          22.6,
          28.5,
          5.6,
          21.3,
          12.2,
          28.2,
          26.9,
          2.9,
          19.3,
          31.1,
          22.7,
          7.4,
          4.1,
          23.8,
          13.5,
          3.6,
          30,
          24.9,
          23.2,
          13.4,
          8.7,
          23.3,
          25.7,
          9.7,
          27.4,
          20.2,
          18.8,
          6.6,
          8.2,
          19.2,
          20.5,
          19.4,
          28.6,
          23.1,
          3.8,
          6.9,
          25.5,
          27.4,
          26.9,
          26.7,
          22.9,
          24.4,
          4.4,
          33.4,
          21.3,
          6,
          45.6,
          37,
          15.4,
          4.5,
          25.7,
          31.3,
          13.5,
          8.6,
          31.8,
          28.4,
          24.2,
          4.5,
          4.7,
          15.3,
          7.9,
          7.1,
          31,
          52.4,
          11.3,
          11.5,
          28.4,
          41.6,
          20.1,
          19.6,
          24.9,
          25.6,
          6,
          5.7,
          15,
          60.7,
          3.8,
          23.1,
          32,
          21.8,
          4.7,
          7.8,
          49.3,
          7.1,
          23.9,
          25,
          22.9,
          7.8,
          54.9,
          22.5,
          19.4,
          19,
          19.1,
          6,
          25.6,
          23.2,
          33.9,
          24.5,
          25.7,
          4.8,
          23.1,
          19.8,
          23.8,
          45.5,
          10.6,
          35,
          7.4,
          23.5,
          14.6,
          7.5,
          6.6,
          22.4,
          22.5,
          20.5,
          6.9,
          27,
          4.9,
          27.1,
          5.4,
          26.5,
          22.1,
          21.2,
          25.8,
          12.6,
          7.1,
          10.8,
          7.1,
          45.9,
          19.7,
          27.3,
          32.2,
          17.5,
          51,
          4.1,
          26.1,
          29.9,
          29.5,
          37.3,
          28.9,
          15.3,
          23.5,
          25.2,
          2.1,
          14.1,
          6.5,
          12.3
         ]
        }
       ],
       "layout": {
        "annotations": [
         {
          "font": {
           "color": "black",
           "size": 12
          },
          "showarrow": false,
          "text": "Percentage estimate of all sexes and ages 18+",
          "x": 0,
          "y": 0.15
         }
        ],
        "coloraxis": {
         "colorbar": {
          "title": {
           "font": {
            "color": "black"
           },
           "text": "Obesity Rates (%)"
          }
         },
         "colorscale": [
          [
           0,
           "rgb(247,252,240)"
          ],
          [
           0.125,
           "rgb(224,243,219)"
          ],
          [
           0.25,
           "rgb(204,235,197)"
          ],
          [
           0.375,
           "rgb(168,221,181)"
          ],
          [
           0.5,
           "rgb(123,204,196)"
          ],
          [
           0.625,
           "rgb(78,179,211)"
          ],
          [
           0.75,
           "rgb(43,140,190)"
          ],
          [
           0.875,
           "rgb(8,104,172)"
          ],
          [
           1,
           "rgb(8,64,129)"
          ]
         ]
        },
        "geo": {
         "center": {},
         "domain": {
          "x": [
           0,
           1
          ],
          "y": [
           0,
           1
          ]
         }
        },
        "height": 900,
        "legend": {
         "tracegroupgap": 0
        },
        "template": {
         "data": {
          "bar": [
           {
            "error_x": {
             "color": "#2a3f5f"
            },
            "error_y": {
             "color": "#2a3f5f"
            },
            "marker": {
             "line": {
              "color": "#E5ECF6",
              "width": 0.5
             },
             "pattern": {
              "fillmode": "overlay",
              "size": 10,
              "solidity": 0.2
             }
            },
            "type": "bar"
           }
          ],
          "barpolar": [
           {
            "marker": {
             "line": {
              "color": "#E5ECF6",
              "width": 0.5
             },
             "pattern": {
              "fillmode": "overlay",
              "size": 10,
              "solidity": 0.2
             }
            },
            "type": "barpolar"
           }
          ],
          "carpet": [
           {
            "aaxis": {
             "endlinecolor": "#2a3f5f",
             "gridcolor": "white",
             "linecolor": "white",
             "minorgridcolor": "white",
             "startlinecolor": "#2a3f5f"
            },
            "baxis": {
             "endlinecolor": "#2a3f5f",
             "gridcolor": "white",
             "linecolor": "white",
             "minorgridcolor": "white",
             "startlinecolor": "#2a3f5f"
            },
            "type": "carpet"
           }
          ],
          "choropleth": [
           {
            "colorbar": {
             "outlinewidth": 0,
             "ticks": ""
            },
            "type": "choropleth"
           }
          ],
          "contour": [
           {
            "colorbar": {
             "outlinewidth": 0,
             "ticks": ""
            },
            "colorscale": [
             [
              0,
              "#0d0887"
             ],
             [
              0.1111111111111111,
              "#46039f"
             ],
             [
              0.2222222222222222,
              "#7201a8"
             ],
             [
              0.3333333333333333,
              "#9c179e"
             ],
             [
              0.4444444444444444,
              "#bd3786"
             ],
             [
              0.5555555555555556,
              "#d8576b"
             ],
             [
              0.6666666666666666,
              "#ed7953"
             ],
             [
              0.7777777777777778,
              "#fb9f3a"
             ],
             [
              0.8888888888888888,
              "#fdca26"
             ],
             [
              1,
              "#f0f921"
             ]
            ],
            "type": "contour"
           }
          ],
          "contourcarpet": [
           {
            "colorbar": {
             "outlinewidth": 0,
             "ticks": ""
            },
            "type": "contourcarpet"
           }
          ],
          "heatmap": [
           {
            "colorbar": {
             "outlinewidth": 0,
             "ticks": ""
            },
            "colorscale": [
             [
              0,
              "#0d0887"
             ],
             [
              0.1111111111111111,
              "#46039f"
             ],
             [
              0.2222222222222222,
              "#7201a8"
             ],
             [
              0.3333333333333333,
              "#9c179e"
             ],
             [
              0.4444444444444444,
              "#bd3786"
             ],
             [
              0.5555555555555556,
              "#d8576b"
             ],
             [
              0.6666666666666666,
              "#ed7953"
             ],
             [
              0.7777777777777778,
              "#fb9f3a"
             ],
             [
              0.8888888888888888,
              "#fdca26"
             ],
             [
              1,
              "#f0f921"
             ]
            ],
            "type": "heatmap"
           }
          ],
          "heatmapgl": [
           {
            "colorbar": {
             "outlinewidth": 0,
             "ticks": ""
            },
            "colorscale": [
             [
              0,
              "#0d0887"
             ],
             [
              0.1111111111111111,
              "#46039f"
             ],
             [
              0.2222222222222222,
              "#7201a8"
             ],
             [
              0.3333333333333333,
              "#9c179e"
             ],
             [
              0.4444444444444444,
              "#bd3786"
             ],
             [
              0.5555555555555556,
              "#d8576b"
             ],
             [
              0.6666666666666666,
              "#ed7953"
             ],
             [
              0.7777777777777778,
              "#fb9f3a"
             ],
             [
              0.8888888888888888,
              "#fdca26"
             ],
             [
              1,
              "#f0f921"
             ]
            ],
            "type": "heatmapgl"
           }
          ],
          "histogram": [
           {
            "marker": {
             "pattern": {
              "fillmode": "overlay",
              "size": 10,
              "solidity": 0.2
             }
            },
            "type": "histogram"
           }
          ],
          "histogram2d": [
           {
            "colorbar": {
             "outlinewidth": 0,
             "ticks": ""
            },
            "colorscale": [
             [
              0,
              "#0d0887"
             ],
             [
              0.1111111111111111,
              "#46039f"
             ],
             [
              0.2222222222222222,
              "#7201a8"
             ],
             [
              0.3333333333333333,
              "#9c179e"
             ],
             [
              0.4444444444444444,
              "#bd3786"
             ],
             [
              0.5555555555555556,
              "#d8576b"
             ],
             [
              0.6666666666666666,
              "#ed7953"
             ],
             [
              0.7777777777777778,
              "#fb9f3a"
             ],
             [
              0.8888888888888888,
              "#fdca26"
             ],
             [
              1,
              "#f0f921"
             ]
            ],
            "type": "histogram2d"
           }
          ],
          "histogram2dcontour": [
           {
            "colorbar": {
             "outlinewidth": 0,
             "ticks": ""
            },
            "colorscale": [
             [
              0,
              "#0d0887"
             ],
             [
              0.1111111111111111,
              "#46039f"
             ],
             [
              0.2222222222222222,
              "#7201a8"
             ],
             [
              0.3333333333333333,
              "#9c179e"
             ],
             [
              0.4444444444444444,
              "#bd3786"
             ],
             [
              0.5555555555555556,
              "#d8576b"
             ],
             [
              0.6666666666666666,
              "#ed7953"
             ],
             [
              0.7777777777777778,
              "#fb9f3a"
             ],
             [
              0.8888888888888888,
              "#fdca26"
             ],
             [
              1,
              "#f0f921"
             ]
            ],
            "type": "histogram2dcontour"
           }
          ],
          "mesh3d": [
           {
            "colorbar": {
             "outlinewidth": 0,
             "ticks": ""
            },
            "type": "mesh3d"
           }
          ],
          "parcoords": [
           {
            "line": {
             "colorbar": {
              "outlinewidth": 0,
              "ticks": ""
             }
            },
            "type": "parcoords"
           }
          ],
          "pie": [
           {
            "automargin": true,
            "type": "pie"
           }
          ],
          "scatter": [
           {
            "fillpattern": {
             "fillmode": "overlay",
             "size": 10,
             "solidity": 0.2
            },
            "type": "scatter"
           }
          ],
          "scatter3d": [
           {
            "line": {
             "colorbar": {
              "outlinewidth": 0,
              "ticks": ""
             }
            },
            "marker": {
             "colorbar": {
              "outlinewidth": 0,
              "ticks": ""
             }
            },
            "type": "scatter3d"
           }
          ],
          "scattercarpet": [
           {
            "marker": {
             "colorbar": {
              "outlinewidth": 0,
              "ticks": ""
             }
            },
            "type": "scattercarpet"
           }
          ],
          "scattergeo": [
           {
            "marker": {
             "colorbar": {
              "outlinewidth": 0,
              "ticks": ""
             }
            },
            "type": "scattergeo"
           }
          ],
          "scattergl": [
           {
            "marker": {
             "colorbar": {
              "outlinewidth": 0,
              "ticks": ""
             }
            },
            "type": "scattergl"
           }
          ],
          "scattermapbox": [
           {
            "marker": {
             "colorbar": {
              "outlinewidth": 0,
              "ticks": ""
             }
            },
            "type": "scattermapbox"
           }
          ],
          "scatterpolar": [
           {
            "marker": {
             "colorbar": {
              "outlinewidth": 0,
              "ticks": ""
             }
            },
            "type": "scatterpolar"
           }
          ],
          "scatterpolargl": [
           {
            "marker": {
             "colorbar": {
              "outlinewidth": 0,
              "ticks": ""
             }
            },
            "type": "scatterpolargl"
           }
          ],
          "scatterternary": [
           {
            "marker": {
             "colorbar": {
              "outlinewidth": 0,
              "ticks": ""
             }
            },
            "type": "scatterternary"
           }
          ],
          "surface": [
           {
            "colorbar": {
             "outlinewidth": 0,
             "ticks": ""
            },
            "colorscale": [
             [
              0,
              "#0d0887"
             ],
             [
              0.1111111111111111,
              "#46039f"
             ],
             [
              0.2222222222222222,
              "#7201a8"
             ],
             [
              0.3333333333333333,
              "#9c179e"
             ],
             [
              0.4444444444444444,
              "#bd3786"
             ],
             [
              0.5555555555555556,
              "#d8576b"
             ],
             [
              0.6666666666666666,
              "#ed7953"
             ],
             [
              0.7777777777777778,
              "#fb9f3a"
             ],
             [
              0.8888888888888888,
              "#fdca26"
             ],
             [
              1,
              "#f0f921"
             ]
            ],
            "type": "surface"
           }
          ],
          "table": [
           {
            "cells": {
             "fill": {
              "color": "#EBF0F8"
             },
             "line": {
              "color": "white"
             }
            },
            "header": {
             "fill": {
              "color": "#C8D4E3"
             },
             "line": {
              "color": "white"
             }
            },
            "type": "table"
           }
          ]
         },
         "layout": {
          "annotationdefaults": {
           "arrowcolor": "#2a3f5f",
           "arrowhead": 0,
           "arrowwidth": 1
          },
          "autotypenumbers": "strict",
          "coloraxis": {
           "colorbar": {
            "outlinewidth": 0,
            "ticks": ""
           }
          },
          "colorscale": {
           "diverging": [
            [
             0,
             "#8e0152"
            ],
            [
             0.1,
             "#c51b7d"
            ],
            [
             0.2,
             "#de77ae"
            ],
            [
             0.3,
             "#f1b6da"
            ],
            [
             0.4,
             "#fde0ef"
            ],
            [
             0.5,
             "#f7f7f7"
            ],
            [
             0.6,
             "#e6f5d0"
            ],
            [
             0.7,
             "#b8e186"
            ],
            [
             0.8,
             "#7fbc41"
            ],
            [
             0.9,
             "#4d9221"
            ],
            [
             1,
             "#276419"
            ]
           ],
           "sequential": [
            [
             0,
             "#0d0887"
            ],
            [
             0.1111111111111111,
             "#46039f"
            ],
            [
             0.2222222222222222,
             "#7201a8"
            ],
            [
             0.3333333333333333,
             "#9c179e"
            ],
            [
             0.4444444444444444,
             "#bd3786"
            ],
            [
             0.5555555555555556,
             "#d8576b"
            ],
            [
             0.6666666666666666,
             "#ed7953"
            ],
            [
             0.7777777777777778,
             "#fb9f3a"
            ],
            [
             0.8888888888888888,
             "#fdca26"
            ],
            [
             1,
             "#f0f921"
            ]
           ],
           "sequentialminus": [
            [
             0,
             "#0d0887"
            ],
            [
             0.1111111111111111,
             "#46039f"
            ],
            [
             0.2222222222222222,
             "#7201a8"
            ],
            [
             0.3333333333333333,
             "#9c179e"
            ],
            [
             0.4444444444444444,
             "#bd3786"
            ],
            [
             0.5555555555555556,
             "#d8576b"
            ],
            [
             0.6666666666666666,
             "#ed7953"
            ],
            [
             0.7777777777777778,
             "#fb9f3a"
            ],
            [
             0.8888888888888888,
             "#fdca26"
            ],
            [
             1,
             "#f0f921"
            ]
           ]
          },
          "colorway": [
           "#636efa",
           "#EF553B",
           "#00cc96",
           "#ab63fa",
           "#FFA15A",
           "#19d3f3",
           "#FF6692",
           "#B6E880",
           "#FF97FF",
           "#FECB52"
          ],
          "font": {
           "color": "#2a3f5f"
          },
          "geo": {
           "bgcolor": "white",
           "lakecolor": "white",
           "landcolor": "#E5ECF6",
           "showlakes": true,
           "showland": true,
           "subunitcolor": "white"
          },
          "hoverlabel": {
           "align": "left"
          },
          "hovermode": "closest",
          "mapbox": {
           "style": "light"
          },
          "paper_bgcolor": "white",
          "plot_bgcolor": "#E5ECF6",
          "polar": {
           "angularaxis": {
            "gridcolor": "white",
            "linecolor": "white",
            "ticks": ""
           },
           "bgcolor": "#E5ECF6",
           "radialaxis": {
            "gridcolor": "white",
            "linecolor": "white",
            "ticks": ""
           }
          },
          "scene": {
           "xaxis": {
            "backgroundcolor": "#E5ECF6",
            "gridcolor": "white",
            "gridwidth": 2,
            "linecolor": "white",
            "showbackground": true,
            "ticks": "",
            "zerolinecolor": "white"
           },
           "yaxis": {
            "backgroundcolor": "#E5ECF6",
            "gridcolor": "white",
            "gridwidth": 2,
            "linecolor": "white",
            "showbackground": true,
            "ticks": "",
            "zerolinecolor": "white"
           },
           "zaxis": {
            "backgroundcolor": "#E5ECF6",
            "gridcolor": "white",
            "gridwidth": 2,
            "linecolor": "white",
            "showbackground": true,
            "ticks": "",
            "zerolinecolor": "white"
           }
          },
          "shapedefaults": {
           "line": {
            "color": "#2a3f5f"
           }
          },
          "ternary": {
           "aaxis": {
            "gridcolor": "white",
            "linecolor": "white",
            "ticks": ""
           },
           "baxis": {
            "gridcolor": "white",
            "linecolor": "white",
            "ticks": ""
           },
           "bgcolor": "#E5ECF6",
           "caxis": {
            "gridcolor": "white",
            "linecolor": "white",
            "ticks": ""
           }
          },
          "title": {
           "x": 0.05
          },
          "xaxis": {
           "automargin": true,
           "gridcolor": "white",
           "linecolor": "white",
           "ticks": "",
           "title": {
            "standoff": 15
           },
           "zerolinecolor": "white",
           "zerolinewidth": 2
          },
          "yaxis": {
           "automargin": true,
           "gridcolor": "white",
           "linecolor": "white",
           "ticks": "",
           "title": {
            "standoff": 15
           },
           "zerolinecolor": "white",
           "zerolinewidth": 2
          }
         }
        },
        "title": {
         "font": {
          "color": "black",
          "family": "Georgia",
          "size": 25
         },
         "text": "Prevalence of Obesity Among Adults",
         "x": 0.5,
         "xanchor": "center",
         "y": 0.77,
         "yanchor": "bottom"
        },
        "width": 1100
       }
      },
      "text/html": [
       "<div>                            <div id=\"22388156-bba9-4108-962f-98e2fc9c27d3\" class=\"plotly-graph-div\" style=\"height:900px; width:1100px;\"></div>            <script type=\"text/javascript\">                require([\"plotly\"], function(Plotly) {                    window.PLOTLYENV=window.PLOTLYENV || {};                                    if (document.getElementById(\"22388156-bba9-4108-962f-98e2fc9c27d3\")) {                    Plotly.newPlot(                        \"22388156-bba9-4108-962f-98e2fc9c27d3\",                        [{\"coloraxis\":\"coloraxis\",\"geo\":\"geo\",\"hovertemplate\":\"Country=%{location}\\u003cbr\\u003eObesity Rates (%)=%{z}\\u003cextra\\u003e\\u003c\\u002fextra\\u003e\",\"locationmode\":\"country names\",\"locations\":[\"Afghanistan\",\"Albania\",\"Algeria\",\"Andorra\",\"Angola\",\"Antigua and Barbuda\",\"Argentina\",\"Armenia\",\"Australia\",\"Austria\",\"Azerbaijan\",\"Bahamas\",\"Bahrain\",\"Bangladesh\",\"Barbados\",\"Belarus\",\"Belgium\",\"Belize\",\"Benin\",\"Bhutan\",\"Bolivia\",\"Bosnia and Herzegovina\",\"Botswana\",\"Brazil\",\"Brunei\",\"Bulgaria\",\"Burkina Faso\",\"Burundi\",\"Cambodia\",\"Cameroon\",\"Canada\",\"Cape Verde\",\"Central African Republic\",\"Chad\",\"Chile\",\"China\",\"Colombia\",\"Comoros\",\"Congo\",\"Cook Islands\",\"Costa Rica\",\"Cote d'Ivoire\",\"Croatia\",\"Cuba\",\"Cyprus\",\"Czechia\",\"Democratic Republic of Congo\",\"Denmark\",\"Djibouti\",\"Dominica\",\"Dominican Republic\",\"East Timor\",\"Ecuador\",\"Egypt\",\"El Salvador\",\"Equatorial Guinea\",\"Eritrea\",\"Estonia\",\"Eswatini\",\"Ethiopia\",\"Fiji\",\"Finland\",\"France\",\"Gabon\",\"Gambia\",\"Georgia\",\"Germany\",\"Ghana\",\"Greece\",\"Grenada\",\"Guatemala\",\"Guinea\",\"Guinea-Bissau\",\"Guyana\",\"Haiti\",\"Honduras\",\"Hungary\",\"Iceland\",\"India\",\"Indonesia\",\"Iran\",\"Iraq\",\"Ireland\",\"Israel\",\"Italy\",\"Jamaica\",\"Japan\",\"Jordan\",\"Kazakhstan\",\"Kenya\",\"Kiribati\",\"Kuwait\",\"Kyrgyzstan\",\"Laos\",\"Latvia\",\"Lebanon\",\"Lesotho\",\"Liberia\",\"Libya\",\"Lithuania\",\"Luxembourg\",\"Madagascar\",\"Malawi\",\"Malaysia\",\"Maldives\",\"Mali\",\"Malta\",\"Marshall Islands\",\"Mauritania\",\"Mauritius\",\"Mexico\",\"Micronesia (country)\",\"Moldova\",\"Mongolia\",\"Montenegro\",\"Morocco\",\"Mozambique\",\"Myanmar\",\"Namibia\",\"Nauru\",\"Nepal\",\"Netherlands\",\"New Zealand\",\"Nicaragua\",\"Niger\",\"Nigeria\",\"Niue\",\"North Korea\",\"North Macedonia\",\"Norway\",\"Oman\",\"Pakistan\",\"Palau\",\"Panama\",\"Papua New Guinea\",\"Paraguay\",\"Peru\",\"Philippines\",\"Poland\",\"Portugal\",\"Qatar\",\"Romania\",\"Russia\",\"Rwanda\",\"Saint Kitts and Nevis\",\"Saint Lucia\",\"Saint Vincent and the Grenadines\",\"Samoa\",\"Sao Tome and Principe\",\"Saudi Arabia\",\"Senegal\",\"Serbia\",\"Seychelles\",\"Sierra Leone\",\"Singapore\",\"Slovakia\",\"Slovenia\",\"Solomon Islands\",\"Somalia\",\"South Africa\",\"South Korea\",\"Spain\",\"Sri Lanka\",\"Suriname\",\"Sweden\",\"Switzerland\",\"Syria\",\"Tajikistan\",\"Tanzania\",\"Thailand\",\"Togo\",\"Tonga\",\"Trinidad and Tobago\",\"Tunisia\",\"Turkey\",\"Turkmenistan\",\"Tuvalu\",\"Uganda\",\"Ukraine\",\"United Arab Emirates\",\"United Kingdom\",\"United States\",\"Uruguay\",\"Uzbekistan\",\"Vanuatu\",\"Venezuela\",\"Vietnam\",\"Yemen\",\"Zambia\",\"Zimbabwe\"],\"name\":\"\",\"z\":[4.5,22.3,26.6,28.0,6.8,19.1,28.5,20.9,30.4,21.9,19.9,32.1,28.7,3.4,24.8,26.6,24.5,22.4,8.2,5.8,18.7,19.4,16.1,22.3,14.7,27.4,4.5,4.4,3.5,9.5,31.3,10.6,6.3,4.8,28.8,6.6,22.1,6.9,8.4,55.3,25.7,9.0,27.1,26.7,22.6,28.5,5.6,21.3,12.2,28.2,26.9,2.9,19.3,31.1,22.7,7.4,4.1,23.8,13.5,3.6,30.0,24.9,23.2,13.4,8.7,23.3,25.7,9.7,27.4,20.2,18.8,6.6,8.2,19.2,20.5,19.4,28.6,23.1,3.8,6.9,25.5,27.4,26.9,26.7,22.9,24.4,4.4,33.4,21.3,6.0,45.6,37.0,15.4,4.5,25.7,31.3,13.5,8.6,31.8,28.4,24.2,4.5,4.7,15.3,7.9,7.1,31.0,52.4,11.3,11.5,28.4,41.6,20.1,19.6,24.9,25.6,6.0,5.7,15.0,60.7,3.8,23.1,32.0,21.8,4.7,7.8,49.3,7.1,23.9,25.0,22.9,7.8,54.9,22.5,19.4,19.0,19.1,6.0,25.6,23.2,33.9,24.5,25.7,4.8,23.1,19.8,23.8,45.5,10.6,35.0,7.4,23.5,14.6,7.5,6.6,22.4,22.5,20.5,6.9,27.0,4.9,27.1,5.4,26.5,22.1,21.2,25.8,12.6,7.1,10.8,7.1,45.9,19.7,27.3,32.2,17.5,51.0,4.1,26.1,29.9,29.5,37.3,28.9,15.3,23.5,25.2,2.1,14.1,6.5,12.3],\"type\":\"choropleth\"}],                        {\"template\":{\"data\":{\"histogram2dcontour\":[{\"type\":\"histogram2dcontour\",\"colorbar\":{\"outlinewidth\":0,\"ticks\":\"\"},\"colorscale\":[[0.0,\"#0d0887\"],[0.1111111111111111,\"#46039f\"],[0.2222222222222222,\"#7201a8\"],[0.3333333333333333,\"#9c179e\"],[0.4444444444444444,\"#bd3786\"],[0.5555555555555556,\"#d8576b\"],[0.6666666666666666,\"#ed7953\"],[0.7777777777777778,\"#fb9f3a\"],[0.8888888888888888,\"#fdca26\"],[1.0,\"#f0f921\"]]}],\"choropleth\":[{\"type\":\"choropleth\",\"colorbar\":{\"outlinewidth\":0,\"ticks\":\"\"}}],\"histogram2d\":[{\"type\":\"histogram2d\",\"colorbar\":{\"outlinewidth\":0,\"ticks\":\"\"},\"colorscale\":[[0.0,\"#0d0887\"],[0.1111111111111111,\"#46039f\"],[0.2222222222222222,\"#7201a8\"],[0.3333333333333333,\"#9c179e\"],[0.4444444444444444,\"#bd3786\"],[0.5555555555555556,\"#d8576b\"],[0.6666666666666666,\"#ed7953\"],[0.7777777777777778,\"#fb9f3a\"],[0.8888888888888888,\"#fdca26\"],[1.0,\"#f0f921\"]]}],\"heatmap\":[{\"type\":\"heatmap\",\"colorbar\":{\"outlinewidth\":0,\"ticks\":\"\"},\"colorscale\":[[0.0,\"#0d0887\"],[0.1111111111111111,\"#46039f\"],[0.2222222222222222,\"#7201a8\"],[0.3333333333333333,\"#9c179e\"],[0.4444444444444444,\"#bd3786\"],[0.5555555555555556,\"#d8576b\"],[0.6666666666666666,\"#ed7953\"],[0.7777777777777778,\"#fb9f3a\"],[0.8888888888888888,\"#fdca26\"],[1.0,\"#f0f921\"]]}],\"heatmapgl\":[{\"type\":\"heatmapgl\",\"colorbar\":{\"outlinewidth\":0,\"ticks\":\"\"},\"colorscale\":[[0.0,\"#0d0887\"],[0.1111111111111111,\"#46039f\"],[0.2222222222222222,\"#7201a8\"],[0.3333333333333333,\"#9c179e\"],[0.4444444444444444,\"#bd3786\"],[0.5555555555555556,\"#d8576b\"],[0.6666666666666666,\"#ed7953\"],[0.7777777777777778,\"#fb9f3a\"],[0.8888888888888888,\"#fdca26\"],[1.0,\"#f0f921\"]]}],\"contourcarpet\":[{\"type\":\"contourcarpet\",\"colorbar\":{\"outlinewidth\":0,\"ticks\":\"\"}}],\"contour\":[{\"type\":\"contour\",\"colorbar\":{\"outlinewidth\":0,\"ticks\":\"\"},\"colorscale\":[[0.0,\"#0d0887\"],[0.1111111111111111,\"#46039f\"],[0.2222222222222222,\"#7201a8\"],[0.3333333333333333,\"#9c179e\"],[0.4444444444444444,\"#bd3786\"],[0.5555555555555556,\"#d8576b\"],[0.6666666666666666,\"#ed7953\"],[0.7777777777777778,\"#fb9f3a\"],[0.8888888888888888,\"#fdca26\"],[1.0,\"#f0f921\"]]}],\"surface\":[{\"type\":\"surface\",\"colorbar\":{\"outlinewidth\":0,\"ticks\":\"\"},\"colorscale\":[[0.0,\"#0d0887\"],[0.1111111111111111,\"#46039f\"],[0.2222222222222222,\"#7201a8\"],[0.3333333333333333,\"#9c179e\"],[0.4444444444444444,\"#bd3786\"],[0.5555555555555556,\"#d8576b\"],[0.6666666666666666,\"#ed7953\"],[0.7777777777777778,\"#fb9f3a\"],[0.8888888888888888,\"#fdca26\"],[1.0,\"#f0f921\"]]}],\"mesh3d\":[{\"type\":\"mesh3d\",\"colorbar\":{\"outlinewidth\":0,\"ticks\":\"\"}}],\"scatter\":[{\"fillpattern\":{\"fillmode\":\"overlay\",\"size\":10,\"solidity\":0.2},\"type\":\"scatter\"}],\"parcoords\":[{\"type\":\"parcoords\",\"line\":{\"colorbar\":{\"outlinewidth\":0,\"ticks\":\"\"}}}],\"scatterpolargl\":[{\"type\":\"scatterpolargl\",\"marker\":{\"colorbar\":{\"outlinewidth\":0,\"ticks\":\"\"}}}],\"bar\":[{\"error_x\":{\"color\":\"#2a3f5f\"},\"error_y\":{\"color\":\"#2a3f5f\"},\"marker\":{\"line\":{\"color\":\"#E5ECF6\",\"width\":0.5},\"pattern\":{\"fillmode\":\"overlay\",\"size\":10,\"solidity\":0.2}},\"type\":\"bar\"}],\"scattergeo\":[{\"type\":\"scattergeo\",\"marker\":{\"colorbar\":{\"outlinewidth\":0,\"ticks\":\"\"}}}],\"scatterpolar\":[{\"type\":\"scatterpolar\",\"marker\":{\"colorbar\":{\"outlinewidth\":0,\"ticks\":\"\"}}}],\"histogram\":[{\"marker\":{\"pattern\":{\"fillmode\":\"overlay\",\"size\":10,\"solidity\":0.2}},\"type\":\"histogram\"}],\"scattergl\":[{\"type\":\"scattergl\",\"marker\":{\"colorbar\":{\"outlinewidth\":0,\"ticks\":\"\"}}}],\"scatter3d\":[{\"type\":\"scatter3d\",\"line\":{\"colorbar\":{\"outlinewidth\":0,\"ticks\":\"\"}},\"marker\":{\"colorbar\":{\"outlinewidth\":0,\"ticks\":\"\"}}}],\"scattermapbox\":[{\"type\":\"scattermapbox\",\"marker\":{\"colorbar\":{\"outlinewidth\":0,\"ticks\":\"\"}}}],\"scatterternary\":[{\"type\":\"scatterternary\",\"marker\":{\"colorbar\":{\"outlinewidth\":0,\"ticks\":\"\"}}}],\"scattercarpet\":[{\"type\":\"scattercarpet\",\"marker\":{\"colorbar\":{\"outlinewidth\":0,\"ticks\":\"\"}}}],\"carpet\":[{\"aaxis\":{\"endlinecolor\":\"#2a3f5f\",\"gridcolor\":\"white\",\"linecolor\":\"white\",\"minorgridcolor\":\"white\",\"startlinecolor\":\"#2a3f5f\"},\"baxis\":{\"endlinecolor\":\"#2a3f5f\",\"gridcolor\":\"white\",\"linecolor\":\"white\",\"minorgridcolor\":\"white\",\"startlinecolor\":\"#2a3f5f\"},\"type\":\"carpet\"}],\"table\":[{\"cells\":{\"fill\":{\"color\":\"#EBF0F8\"},\"line\":{\"color\":\"white\"}},\"header\":{\"fill\":{\"color\":\"#C8D4E3\"},\"line\":{\"color\":\"white\"}},\"type\":\"table\"}],\"barpolar\":[{\"marker\":{\"line\":{\"color\":\"#E5ECF6\",\"width\":0.5},\"pattern\":{\"fillmode\":\"overlay\",\"size\":10,\"solidity\":0.2}},\"type\":\"barpolar\"}],\"pie\":[{\"automargin\":true,\"type\":\"pie\"}]},\"layout\":{\"autotypenumbers\":\"strict\",\"colorway\":[\"#636efa\",\"#EF553B\",\"#00cc96\",\"#ab63fa\",\"#FFA15A\",\"#19d3f3\",\"#FF6692\",\"#B6E880\",\"#FF97FF\",\"#FECB52\"],\"font\":{\"color\":\"#2a3f5f\"},\"hovermode\":\"closest\",\"hoverlabel\":{\"align\":\"left\"},\"paper_bgcolor\":\"white\",\"plot_bgcolor\":\"#E5ECF6\",\"polar\":{\"bgcolor\":\"#E5ECF6\",\"angularaxis\":{\"gridcolor\":\"white\",\"linecolor\":\"white\",\"ticks\":\"\"},\"radialaxis\":{\"gridcolor\":\"white\",\"linecolor\":\"white\",\"ticks\":\"\"}},\"ternary\":{\"bgcolor\":\"#E5ECF6\",\"aaxis\":{\"gridcolor\":\"white\",\"linecolor\":\"white\",\"ticks\":\"\"},\"baxis\":{\"gridcolor\":\"white\",\"linecolor\":\"white\",\"ticks\":\"\"},\"caxis\":{\"gridcolor\":\"white\",\"linecolor\":\"white\",\"ticks\":\"\"}},\"coloraxis\":{\"colorbar\":{\"outlinewidth\":0,\"ticks\":\"\"}},\"colorscale\":{\"sequential\":[[0.0,\"#0d0887\"],[0.1111111111111111,\"#46039f\"],[0.2222222222222222,\"#7201a8\"],[0.3333333333333333,\"#9c179e\"],[0.4444444444444444,\"#bd3786\"],[0.5555555555555556,\"#d8576b\"],[0.6666666666666666,\"#ed7953\"],[0.7777777777777778,\"#fb9f3a\"],[0.8888888888888888,\"#fdca26\"],[1.0,\"#f0f921\"]],\"sequentialminus\":[[0.0,\"#0d0887\"],[0.1111111111111111,\"#46039f\"],[0.2222222222222222,\"#7201a8\"],[0.3333333333333333,\"#9c179e\"],[0.4444444444444444,\"#bd3786\"],[0.5555555555555556,\"#d8576b\"],[0.6666666666666666,\"#ed7953\"],[0.7777777777777778,\"#fb9f3a\"],[0.8888888888888888,\"#fdca26\"],[1.0,\"#f0f921\"]],\"diverging\":[[0,\"#8e0152\"],[0.1,\"#c51b7d\"],[0.2,\"#de77ae\"],[0.3,\"#f1b6da\"],[0.4,\"#fde0ef\"],[0.5,\"#f7f7f7\"],[0.6,\"#e6f5d0\"],[0.7,\"#b8e186\"],[0.8,\"#7fbc41\"],[0.9,\"#4d9221\"],[1,\"#276419\"]]},\"xaxis\":{\"gridcolor\":\"white\",\"linecolor\":\"white\",\"ticks\":\"\",\"title\":{\"standoff\":15},\"zerolinecolor\":\"white\",\"automargin\":true,\"zerolinewidth\":2},\"yaxis\":{\"gridcolor\":\"white\",\"linecolor\":\"white\",\"ticks\":\"\",\"title\":{\"standoff\":15},\"zerolinecolor\":\"white\",\"automargin\":true,\"zerolinewidth\":2},\"scene\":{\"xaxis\":{\"backgroundcolor\":\"#E5ECF6\",\"gridcolor\":\"white\",\"linecolor\":\"white\",\"showbackground\":true,\"ticks\":\"\",\"zerolinecolor\":\"white\",\"gridwidth\":2},\"yaxis\":{\"backgroundcolor\":\"#E5ECF6\",\"gridcolor\":\"white\",\"linecolor\":\"white\",\"showbackground\":true,\"ticks\":\"\",\"zerolinecolor\":\"white\",\"gridwidth\":2},\"zaxis\":{\"backgroundcolor\":\"#E5ECF6\",\"gridcolor\":\"white\",\"linecolor\":\"white\",\"showbackground\":true,\"ticks\":\"\",\"zerolinecolor\":\"white\",\"gridwidth\":2}},\"shapedefaults\":{\"line\":{\"color\":\"#2a3f5f\"}},\"annotationdefaults\":{\"arrowcolor\":\"#2a3f5f\",\"arrowhead\":0,\"arrowwidth\":1},\"geo\":{\"bgcolor\":\"white\",\"landcolor\":\"#E5ECF6\",\"subunitcolor\":\"white\",\"showland\":true,\"showlakes\":true,\"lakecolor\":\"white\"},\"title\":{\"x\":0.05},\"mapbox\":{\"style\":\"light\"}}},\"geo\":{\"domain\":{\"x\":[0.0,1.0],\"y\":[0.0,1.0]},\"center\":{}},\"coloraxis\":{\"colorbar\":{\"title\":{\"text\":\"Obesity Rates (%)\",\"font\":{\"color\":\"black\"}}},\"colorscale\":[[0.0,\"rgb(247,252,240)\"],[0.125,\"rgb(224,243,219)\"],[0.25,\"rgb(204,235,197)\"],[0.375,\"rgb(168,221,181)\"],[0.5,\"rgb(123,204,196)\"],[0.625,\"rgb(78,179,211)\"],[0.75,\"rgb(43,140,190)\"],[0.875,\"rgb(8,104,172)\"],[1.0,\"rgb(8,64,129)\"]]},\"legend\":{\"tracegroupgap\":0},\"title\":{\"text\":\"Prevalence of Obesity Among Adults\",\"font\":{\"family\":\"Georgia\",\"size\":25,\"color\":\"black\"},\"x\":0.5,\"y\":0.77,\"xanchor\":\"center\",\"yanchor\":\"bottom\"},\"annotations\":[{\"font\":{\"color\":\"black\",\"size\":12},\"showarrow\":false,\"text\":\"Percentage estimate of all sexes and ages 18+\",\"x\":0,\"y\":0.15}],\"width\":1100,\"height\":900},                        {\"responsive\": true}                    ).then(function(){\n",
       "                            \n",
       "var gd = document.getElementById('22388156-bba9-4108-962f-98e2fc9c27d3');\n",
       "var x = new MutationObserver(function (mutations, observer) {{\n",
       "        var display = window.getComputedStyle(gd).display;\n",
       "        if (!display || display === 'none') {{\n",
       "            console.log([gd, 'removed!']);\n",
       "            Plotly.purge(gd);\n",
       "            observer.disconnect();\n",
       "        }}\n",
       "}});\n",
       "\n",
       "// Listen for the removal of the full notebook cells\n",
       "var notebookContainer = gd.closest('#notebook-container');\n",
       "if (notebookContainer) {{\n",
       "    x.observe(notebookContainer, {childList: true});\n",
       "}}\n",
       "\n",
       "// Listen for the clearing of the current output cell\n",
       "var outputEl = gd.closest('.output');\n",
       "if (outputEl) {{\n",
       "    x.observe(outputEl, {childList: true});\n",
       "}}\n",
       "\n",
       "                        })                };                });            </script>        </div>"
      ]
     },
     "metadata": {},
     "output_type": "display_data"
    }
   ],
   "source": [
    "# Create choropleth map for obesity rates\n",
    "fig = px.choropleth(obesity_rates_2016, #dataset \n",
    "                    locations=\"Country\", #column in dataset\n",
    "                    locationmode=\"country names\", #type of location\n",
    "                    color=\"obesity_rates\", #column in dataset\n",
    "                    color_continuous_scale=\"gnbu\", #color scale\n",
    "                    labels={\"obesity_rates\": \"Obesity Rates (%)\"}, #label for color bar\n",
    "                    title=\"Prevalence of Obesity Among Adults\") #title of plot\n",
    "\n",
    "\n",
    "# Add annotation\n",
    "fig.add_annotation(\n",
    "    text=\"Percentage estimate of all sexes and ages 18+\", #text\n",
    "    x=0, #x position\n",
    "    y=0.15, #y position                   \n",
    "    showarrow=False, #remove arrow             \n",
    "    font=dict(size=12, color=\"black\") #font size and color\n",
    ")\n",
    "\n",
    "# Show map\n",
    "fig.update_layout(\n",
    "    width=1100,  \n",
    "    height=900,\n",
    "    title={\n",
    "        'x': 0.5, #x position\n",
    "        'y': 0.77, #y position\n",
    "        'xanchor': 'center',\n",
    "        'yanchor': 'bottom', \n",
    "      \n",
    "    },\n",
    "    title_font=dict(\n",
    "        family=\"Georgia\",\n",
    "        size=25, \n",
    "        color=\"black\",\n",
    "    ),\n",
    "    # customize legend\n",
    "    coloraxis_colorbar=dict( \n",
    "        title_font=dict(color='black')  # Change title color to black\n",
    "    )\n",
    ")\n",
    "\n",
    "fig.show()"
   ]
  },
  {
   "cell_type": "code",
   "execution_count": 195,
   "metadata": {},
   "outputs": [
    {
     "data": {
      "text/html": [
       "<div>\n",
       "<style scoped>\n",
       "    .dataframe tbody tr th:only-of-type {\n",
       "        vertical-align: middle;\n",
       "    }\n",
       "\n",
       "    .dataframe tbody tr th {\n",
       "        vertical-align: top;\n",
       "    }\n",
       "\n",
       "    .dataframe thead th {\n",
       "        text-align: right;\n",
       "    }\n",
       "</style>\n",
       "<table border=\"1\" class=\"dataframe\">\n",
       "  <thead>\n",
       "    <tr style=\"text-align: right;\">\n",
       "      <th></th>\n",
       "      <th>Country</th>\n",
       "      <th>Code</th>\n",
       "      <th>Year</th>\n",
       "      <th>obesity_rates</th>\n",
       "      <th>Registered vehicles per 1,000 people</th>\n",
       "    </tr>\n",
       "  </thead>\n",
       "  <tbody>\n",
       "    <tr>\n",
       "      <th>0</th>\n",
       "      <td>Albania</td>\n",
       "      <td>ALB</td>\n",
       "      <td>2016</td>\n",
       "      <td>22.3</td>\n",
       "      <td>194.31734</td>\n",
       "    </tr>\n",
       "    <tr>\n",
       "      <th>1</th>\n",
       "      <td>Antigua and Barbuda</td>\n",
       "      <td>ATG</td>\n",
       "      <td>2016</td>\n",
       "      <td>19.1</td>\n",
       "      <td>400.41788</td>\n",
       "    </tr>\n",
       "    <tr>\n",
       "      <th>2</th>\n",
       "      <td>Argentina</td>\n",
       "      <td>ARG</td>\n",
       "      <td>2016</td>\n",
       "      <td>28.5</td>\n",
       "      <td>492.78890</td>\n",
       "    </tr>\n",
       "    <tr>\n",
       "      <th>3</th>\n",
       "      <td>Australia</td>\n",
       "      <td>AUS</td>\n",
       "      <td>2016</td>\n",
       "      <td>30.4</td>\n",
       "      <td>753.23737</td>\n",
       "    </tr>\n",
       "    <tr>\n",
       "      <th>4</th>\n",
       "      <td>Austria</td>\n",
       "      <td>AUT</td>\n",
       "      <td>2016</td>\n",
       "      <td>21.9</td>\n",
       "      <td>849.36084</td>\n",
       "    </tr>\n",
       "  </tbody>\n",
       "</table>\n",
       "</div>"
      ],
      "text/plain": [
       "               Country Code  Year  obesity_rates  \\\n",
       "0              Albania  ALB  2016           22.3   \n",
       "1  Antigua and Barbuda  ATG  2016           19.1   \n",
       "2            Argentina  ARG  2016           28.5   \n",
       "3            Australia  AUS  2016           30.4   \n",
       "4              Austria  AUT  2016           21.9   \n",
       "\n",
       "   Registered vehicles per 1,000 people  \n",
       "0                             194.31734  \n",
       "1                             400.41788  \n",
       "2                             492.78890  \n",
       "3                             753.23737  \n",
       "4                             849.36084  "
      ]
     },
     "execution_count": 195,
     "metadata": {},
     "output_type": "execute_result"
    }
   ],
   "source": [
    "# merge vehicle data and obesity rates\n",
    "merged_data = pd.merge(obesity_rates_2016, vehicle_data, on=['Country', 'Code', 'Year'], how='inner')\n",
    "merged_data.head()"
   ]
  },
  {
   "cell_type": "code",
   "execution_count": 206,
   "metadata": {},
   "outputs": [
    {
     "data": {
      "text/plain": [
       "Text(0, 0.5, 'Registered Vehicles per 1,000 People')"
      ]
     },
     "execution_count": 206,
     "metadata": {},
     "output_type": "execute_result"
    },
    {
     "data": {
      "image/png": "[encoded data removed]",
      "text/plain": [
       "<Figure size 800x600 with 1 Axes>"
      ]
     },
     "metadata": {},
     "output_type": "display_data"
    }
   ],
   "source": [
    "# create scatterplot of merged dataframe\n",
    "fig, ax = plt.subplots(figsize=(8, 6))\n",
    "scatter = sns.scatterplot(data=merged_data, x=\"obesity_rates\", y=\"Registered vehicles per 1,000 people\", hue='Year', palette = ['#7ea4b3', '#FFAA33'])\n",
    "scatter.legend(title='Year')\n",
    "\n",
    "\n",
    "sns.regplot(data = merged_data, x='obesity_rates', y='Registered vehicles per 1,000 people', scatter=False, color='#ffd2d1', line_kws={'color':'#a0025c', 'linewidth': 2, 'alpha':0.4},)\n",
    "plt.xlabel('Obesity Rates (%)')\n",
    "plt.ylabel('Registered Vehicles per 1,000 People')"
   ]
  },
  {
   "cell_type": "markdown",
   "metadata": {},
   "source": [
    "Loose coorelation between obesity rates and vehicles."
   ]
  },
  {
   "cell_type": "code",
   "execution_count": 247,
   "metadata": {},
   "outputs": [
    {
     "data": {
      "text/html": [
       "<div>\n",
       "<style scoped>\n",
       "    .dataframe tbody tr th:only-of-type {\n",
       "        vertical-align: middle;\n",
       "    }\n",
       "\n",
       "    .dataframe tbody tr th {\n",
       "        vertical-align: top;\n",
       "    }\n",
       "\n",
       "    .dataframe thead th {\n",
       "        text-align: right;\n",
       "    }\n",
       "</style>\n",
       "<table border=\"1\" class=\"dataframe\">\n",
       "  <thead>\n",
       "    <tr style=\"text-align: right;\">\n",
       "      <th></th>\n",
       "      <th>Country</th>\n",
       "      <th>Code</th>\n",
       "      <th>Year</th>\n",
       "      <th>other_commodities</th>\n",
       "      <th>alcoholic_beverages</th>\n",
       "      <th>sugar</th>\n",
       "      <th>oils_fats</th>\n",
       "      <th>meat</th>\n",
       "      <th>dairy_eggs</th>\n",
       "      <th>fruits_vegetables</th>\n",
       "      <th>starchy_roots</th>\n",
       "      <th>pulses</th>\n",
       "      <th>cereals_grains</th>\n",
       "      <th>total_avg_calories</th>\n",
       "      <th>obesity_rates</th>\n",
       "    </tr>\n",
       "  </thead>\n",
       "  <tbody>\n",
       "    <tr>\n",
       "      <th>0</th>\n",
       "      <td>Afghanistan</td>\n",
       "      <td>AFG</td>\n",
       "      <td>2016</td>\n",
       "      <td>11.00</td>\n",
       "      <td>1.00</td>\n",
       "      <td>113.00</td>\n",
       "      <td>220.00</td>\n",
       "      <td>53.00</td>\n",
       "      <td>108.00</td>\n",
       "      <td>108.00</td>\n",
       "      <td>27.00</td>\n",
       "      <td>25.0</td>\n",
       "      <td>1581.00</td>\n",
       "      <td>2247.00</td>\n",
       "      <td>4.5</td>\n",
       "    </tr>\n",
       "    <tr>\n",
       "      <th>1</th>\n",
       "      <td>Albania</td>\n",
       "      <td>ALB</td>\n",
       "      <td>2016</td>\n",
       "      <td>46.00</td>\n",
       "      <td>59.00</td>\n",
       "      <td>196.00</td>\n",
       "      <td>404.00</td>\n",
       "      <td>235.00</td>\n",
       "      <td>719.00</td>\n",
       "      <td>499.00</td>\n",
       "      <td>82.00</td>\n",
       "      <td>46.0</td>\n",
       "      <td>1080.00</td>\n",
       "      <td>3366.00</td>\n",
       "      <td>22.3</td>\n",
       "    </tr>\n",
       "    <tr>\n",
       "      <th>2</th>\n",
       "      <td>Algeria</td>\n",
       "      <td>DZA</td>\n",
       "      <td>2016</td>\n",
       "      <td>39.00</td>\n",
       "      <td>7.00</td>\n",
       "      <td>291.00</td>\n",
       "      <td>632.00</td>\n",
       "      <td>112.00</td>\n",
       "      <td>312.00</td>\n",
       "      <td>392.00</td>\n",
       "      <td>120.00</td>\n",
       "      <td>63.0</td>\n",
       "      <td>1488.00</td>\n",
       "      <td>3456.00</td>\n",
       "      <td>26.6</td>\n",
       "    </tr>\n",
       "    <tr>\n",
       "      <th>3</th>\n",
       "      <td>Angola</td>\n",
       "      <td>AGO</td>\n",
       "      <td>2016</td>\n",
       "      <td>13.00</td>\n",
       "      <td>81.00</td>\n",
       "      <td>126.00</td>\n",
       "      <td>353.00</td>\n",
       "      <td>147.00</td>\n",
       "      <td>23.00</td>\n",
       "      <td>138.00</td>\n",
       "      <td>757.00</td>\n",
       "      <td>66.0</td>\n",
       "      <td>726.00</td>\n",
       "      <td>2430.00</td>\n",
       "      <td>6.8</td>\n",
       "    </tr>\n",
       "    <tr>\n",
       "      <th>4</th>\n",
       "      <td>Antigua and Barbuda</td>\n",
       "      <td>ATG</td>\n",
       "      <td>2016</td>\n",
       "      <td>77.99</td>\n",
       "      <td>123.98</td>\n",
       "      <td>259.96</td>\n",
       "      <td>424.93</td>\n",
       "      <td>373.94</td>\n",
       "      <td>185.97</td>\n",
       "      <td>252.96</td>\n",
       "      <td>44.99</td>\n",
       "      <td>15.0</td>\n",
       "      <td>635.89</td>\n",
       "      <td>2395.61</td>\n",
       "      <td>19.1</td>\n",
       "    </tr>\n",
       "  </tbody>\n",
       "</table>\n",
       "</div>"
      ],
      "text/plain": [
       "               Country Code  Year  other_commodities  alcoholic_beverages  \\\n",
       "0          Afghanistan  AFG  2016              11.00                 1.00   \n",
       "1              Albania  ALB  2016              46.00                59.00   \n",
       "2              Algeria  DZA  2016              39.00                 7.00   \n",
       "3               Angola  AGO  2016              13.00                81.00   \n",
       "4  Antigua and Barbuda  ATG  2016              77.99               123.98   \n",
       "\n",
       "    sugar  oils_fats    meat  dairy_eggs  fruits_vegetables  starchy_roots  \\\n",
       "0  113.00     220.00   53.00      108.00             108.00          27.00   \n",
       "1  196.00     404.00  235.00      719.00             499.00          82.00   \n",
       "2  291.00     632.00  112.00      312.00             392.00         120.00   \n",
       "3  126.00     353.00  147.00       23.00             138.00         757.00   \n",
       "4  259.96     424.93  373.94      185.97             252.96          44.99   \n",
       "\n",
       "   pulses  cereals_grains  total_avg_calories  obesity_rates  \n",
       "0    25.0         1581.00             2247.00            4.5  \n",
       "1    46.0         1080.00             3366.00           22.3  \n",
       "2    63.0         1488.00             3456.00           26.6  \n",
       "3    66.0          726.00             2430.00            6.8  \n",
       "4    15.0          635.89             2395.61           19.1  "
      ]
     },
     "execution_count": 247,
     "metadata": {},
     "output_type": "execute_result"
    }
   ],
   "source": [
    "# merge caloric intake and obesity rates to see correlation caloric intake and obesity rates\n",
    "merge_calories = pd.merge(caloric_intake, obesity_rates_2016, on=['Country', 'Code', 'Year'], how='inner')\n",
    "merge_calories.head()"
   ]
  },
  {
   "cell_type": "code",
   "execution_count": 248,
   "metadata": {},
   "outputs": [
    {
     "data": {
      "text/html": [
       "<div>\n",
       "<style scoped>\n",
       "    .dataframe tbody tr th:only-of-type {\n",
       "        vertical-align: middle;\n",
       "    }\n",
       "\n",
       "    .dataframe tbody tr th {\n",
       "        vertical-align: top;\n",
       "    }\n",
       "\n",
       "    .dataframe thead th {\n",
       "        text-align: right;\n",
       "    }\n",
       "</style>\n",
       "<table border=\"1\" class=\"dataframe\">\n",
       "  <thead>\n",
       "    <tr style=\"text-align: right;\">\n",
       "      <th></th>\n",
       "      <th>obesity_rates</th>\n",
       "      <th>total_avg_calories</th>\n",
       "    </tr>\n",
       "  </thead>\n",
       "  <tbody>\n",
       "    <tr>\n",
       "      <th>obesity_rates</th>\n",
       "      <td>1.00000</td>\n",
       "      <td>0.63372</td>\n",
       "    </tr>\n",
       "    <tr>\n",
       "      <th>total_avg_calories</th>\n",
       "      <td>0.63372</td>\n",
       "      <td>1.00000</td>\n",
       "    </tr>\n",
       "  </tbody>\n",
       "</table>\n",
       "</div>"
      ],
      "text/plain": [
       "                    obesity_rates  total_avg_calories\n",
       "obesity_rates             1.00000             0.63372\n",
       "total_avg_calories        0.63372             1.00000"
      ]
     },
     "execution_count": 248,
     "metadata": {},
     "output_type": "execute_result"
    }
   ],
   "source": [
    "# create heatmap of caloric merged datafram\n",
    "data_corr = merge_calories[['obesity_rates', 'total_avg_calories']].corr()\n",
    "data_corr"
   ]
  },
  {
   "cell_type": "code",
   "execution_count": 250,
   "metadata": {},
   "outputs": [
    {
     "data": {
      "image/png": "[encoded data removed]",
      "text/plain": [
       "<Figure size 1000x600 with 2 Axes>"
      ]
     },
     "metadata": {},
     "output_type": "display_data"
    }
   ],
   "source": [
    "labels = [\"Obesity Rates\", \"Total Average\\n Caloric Intake (daily)\"]\n",
    "fig, ax = plt.subplots(figsize=(10, 6))\n",
    "sns.heatmap(data_corr,vmax=1, vmin=-1,annot = True,\n",
    "            center=0,yticklabels=labels, xticklabels=labels, cmap = 'YlGnBu', ax=ax, cbar_kws={'shrink': 0.8})\n",
    "\n",
    "plt.yticks(rotation=0, fontsize=12)\n",
    "plt.xticks(rotation=0, ha=\"center\", fontsize=12)\n",
    "\n",
    "ax.tick_params(which='both', length=6, width=1.5, color='black', direction='in', axis='x', pad=20)\n",
    "plt.tight_layout(pad=2.0)"
   ]
  },
  {
   "cell_type": "markdown",
   "metadata": {},
   "source": [
    "Strong correlation between obesity rates and average daily caloric intake which should be further investigated. "
   ]
  },
  {
   "cell_type": "code",
   "execution_count": 254,
   "metadata": {},
   "outputs": [
    {
     "data": {
      "text/html": [
       "<div>\n",
       "<style scoped>\n",
       "    .dataframe tbody tr th:only-of-type {\n",
       "        vertical-align: middle;\n",
       "    }\n",
       "\n",
       "    .dataframe tbody tr th {\n",
       "        vertical-align: top;\n",
       "    }\n",
       "\n",
       "    .dataframe thead th {\n",
       "        text-align: right;\n",
       "    }\n",
       "</style>\n",
       "<table border=\"1\" class=\"dataframe\">\n",
       "  <thead>\n",
       "    <tr style=\"text-align: right;\">\n",
       "      <th></th>\n",
       "      <th>Country</th>\n",
       "      <th>Code</th>\n",
       "      <th>Year</th>\n",
       "      <th>other_commodities</th>\n",
       "      <th>alcoholic_beverages</th>\n",
       "      <th>sugar</th>\n",
       "      <th>oils_fats</th>\n",
       "      <th>meat</th>\n",
       "      <th>dairy_eggs</th>\n",
       "      <th>fruits_vegetables</th>\n",
       "      <th>starchy_roots</th>\n",
       "      <th>pulses</th>\n",
       "      <th>cereals_grains</th>\n",
       "      <th>total_avg_calories</th>\n",
       "      <th>obesity_rates</th>\n",
       "    </tr>\n",
       "  </thead>\n",
       "  <tbody>\n",
       "    <tr>\n",
       "      <th>75</th>\n",
       "      <td>Ireland</td>\n",
       "      <td>IRL</td>\n",
       "      <td>2016</td>\n",
       "      <td>90.0</td>\n",
       "      <td>215.0</td>\n",
       "      <td>508.0</td>\n",
       "      <td>651.0</td>\n",
       "      <td>416.0</td>\n",
       "      <td>443.0</td>\n",
       "      <td>223.0</td>\n",
       "      <td>138.0</td>\n",
       "      <td>23.0</td>\n",
       "      <td>1109.0</td>\n",
       "      <td>3816.0</td>\n",
       "      <td>26.9</td>\n",
       "    </tr>\n",
       "    <tr>\n",
       "      <th>14</th>\n",
       "      <td>Belgium</td>\n",
       "      <td>BEL</td>\n",
       "      <td>2016</td>\n",
       "      <td>29.0</td>\n",
       "      <td>149.0</td>\n",
       "      <td>513.0</td>\n",
       "      <td>1038.0</td>\n",
       "      <td>299.0</td>\n",
       "      <td>473.0</td>\n",
       "      <td>248.0</td>\n",
       "      <td>157.0</td>\n",
       "      <td>20.0</td>\n",
       "      <td>854.0</td>\n",
       "      <td>3780.0</td>\n",
       "      <td>24.5</td>\n",
       "    </tr>\n",
       "    <tr>\n",
       "      <th>164</th>\n",
       "      <td>United States</td>\n",
       "      <td>USA</td>\n",
       "      <td>2016</td>\n",
       "      <td>31.0</td>\n",
       "      <td>168.0</td>\n",
       "      <td>611.0</td>\n",
       "      <td>912.0</td>\n",
       "      <td>469.0</td>\n",
       "      <td>456.0</td>\n",
       "      <td>210.0</td>\n",
       "      <td>102.0</td>\n",
       "      <td>32.0</td>\n",
       "      <td>783.0</td>\n",
       "      <td>3774.0</td>\n",
       "      <td>37.3</td>\n",
       "    </tr>\n",
       "    <tr>\n",
       "      <th>8</th>\n",
       "      <td>Austria</td>\n",
       "      <td>AUT</td>\n",
       "      <td>2016</td>\n",
       "      <td>56.0</td>\n",
       "      <td>199.0</td>\n",
       "      <td>492.0</td>\n",
       "      <td>1012.0</td>\n",
       "      <td>394.0</td>\n",
       "      <td>365.0</td>\n",
       "      <td>196.0</td>\n",
       "      <td>103.0</td>\n",
       "      <td>7.0</td>\n",
       "      <td>892.0</td>\n",
       "      <td>3716.0</td>\n",
       "      <td>21.9</td>\n",
       "    </tr>\n",
       "    <tr>\n",
       "      <th>158</th>\n",
       "      <td>Turkey</td>\n",
       "      <td>TUR</td>\n",
       "      <td>2016</td>\n",
       "      <td>29.0</td>\n",
       "      <td>23.0</td>\n",
       "      <td>314.0</td>\n",
       "      <td>745.0</td>\n",
       "      <td>179.0</td>\n",
       "      <td>350.0</td>\n",
       "      <td>329.0</td>\n",
       "      <td>83.0</td>\n",
       "      <td>110.0</td>\n",
       "      <td>1519.0</td>\n",
       "      <td>3681.0</td>\n",
       "      <td>32.2</td>\n",
       "    </tr>\n",
       "  </tbody>\n",
       "</table>\n",
       "</div>"
      ],
      "text/plain": [
       "           Country Code  Year  other_commodities  alcoholic_beverages  sugar  \\\n",
       "75         Ireland  IRL  2016               90.0                215.0  508.0   \n",
       "14         Belgium  BEL  2016               29.0                149.0  513.0   \n",
       "164  United States  USA  2016               31.0                168.0  611.0   \n",
       "8          Austria  AUT  2016               56.0                199.0  492.0   \n",
       "158         Turkey  TUR  2016               29.0                 23.0  314.0   \n",
       "\n",
       "     oils_fats   meat  dairy_eggs  fruits_vegetables  starchy_roots  pulses  \\\n",
       "75       651.0  416.0       443.0              223.0          138.0    23.0   \n",
       "14      1038.0  299.0       473.0              248.0          157.0    20.0   \n",
       "164      912.0  469.0       456.0              210.0          102.0    32.0   \n",
       "8       1012.0  394.0       365.0              196.0          103.0     7.0   \n",
       "158      745.0  179.0       350.0              329.0           83.0   110.0   \n",
       "\n",
       "     cereals_grains  total_avg_calories  obesity_rates  \n",
       "75           1109.0              3816.0           26.9  \n",
       "14            854.0              3780.0           24.5  \n",
       "164           783.0              3774.0           37.3  \n",
       "8             892.0              3716.0           21.9  \n",
       "158          1519.0              3681.0           32.2  "
      ]
     },
     "execution_count": 254,
     "metadata": {},
     "output_type": "execute_result"
    }
   ],
   "source": [
    "# sort merged dataframe highest to lowest\n",
    "merge_calories.sort_values(by='total_avg_calories', ascending=False, inplace=True)\n",
    "merge_calories.head()\n"
   ]
  },
  {
   "cell_type": "code",
   "execution_count": 265,
   "metadata": {},
   "outputs": [],
   "source": [
    "# top 5 countries with highest caloric intake\n",
    "top_5_calories = merge_calories[['Country', 'total_avg_calories']].head().sort_values(by='total_avg_calories', ascending=False)\n"
   ]
  },
  {
   "cell_type": "code",
   "execution_count": 266,
   "metadata": {},
   "outputs": [
    {
     "data": {
      "image/png": "[encoded data removed]",
      "text/plain": [
       "<Figure size 1200x600 with 1 Axes>"
      ]
     },
     "metadata": {},
     "output_type": "display_data"
    }
   ],
   "source": [
    "# Bar plot for top 5 countries with highest caloric intake\n",
    "\n",
    "plt.figure(figsize=(12,6))\n",
    "\n",
    "ax = sns.barplot(x='Country', y='total_avg_calories', palette=\"crest\", data=top_5_calories)\n",
    "\n",
    "# Title\n",
    "plt.title('Top 5 Countries with Highest Caloric Intake', fontsize=16, fontweight='bold')\n",
    "\n",
    "# Axis labels\n",
    "plt.xlabel('Country', fontweight = 'bold')\n",
    "plt.ylabel('Avg. Daily Caloric Intake', fontweight = 'bold')\n",
    "\n",
    "# Add values on top of each bar:\n",
    "for bar in ax.patches:  \n",
    "    yval = bar.get_height() \n",
    "    ax.text(\n",
    "        bar.get_x() + bar.get_width() / 2, \n",
    "        yval - 0,  \n",
    "        f'{yval:.2f}',\n",
    "        ha='center',  \n",
    "        va='bottom',  \n",
    "        fontsize=13,  \n",
    "        color=\"black\"  \n",
    "    )\n",
    "    \n",
    "# Show the plot\n",
    "plt.show()"
   ]
  },
  {
   "cell_type": "code",
   "execution_count": 262,
   "metadata": {},
   "outputs": [
    {
     "data": {
      "image/png": "[encoded data removed]",
      "text/plain": [
       "<Figure size 1200x600 with 1 Axes>"
      ]
     },
     "metadata": {},
     "output_type": "display_data"
    }
   ],
   "source": [
    "# top 5 countries with highest obesity rates sorted highest to lowest\n",
    "top_5_obesity = merge_calories[['Country', 'obesity_rates']].head().sort_values(by='obesity_rates', ascending=False)\n",
    "\n",
    "# Set plot size:\n",
    "plt.figure(figsize=(12,6))\n",
    "\n",
    "# Create plot:\n",
    "ax = sns.barplot(x='Country', y='obesity_rates', palette=\"crest\", data=top_5_obesity)\n",
    "\n",
    "# Title\n",
    "plt.title('Top 5 States with Highest Obesity Rates', fontsize=16, fontweight='bold')\n",
    "\n",
    "# Axis labels\n",
    "plt.xlabel('Country', fontweight = 'bold')\n",
    "plt.ylabel('Obesity Rate (%)', fontweight = 'bold')\n",
    "\n",
    "# Add values on top of each bar:\n",
    "for bar in ax.patches:  \n",
    "    yval = bar.get_height() \n",
    "    ax.text(\n",
    "        bar.get_x() + bar.get_width() / 2, \n",
    "        yval - 0.00,  \n",
    "        f'{yval:.2f}%',\n",
    "        ha='center',  \n",
    "        va='bottom',  \n",
    "        fontsize=13,  \n",
    "        color=\"black\"  \n",
    "    )\n",
    "    \n",
    "# Show the plot\n",
    "plt.show()"
   ]
  },
  {
   "cell_type": "markdown",
   "metadata": {},
   "source": [
    "Why does the USA lead in obesity rates despite having the 3rd highest average caloric intake?\n"
   ]
  },
  {
   "cell_type": "code",
   "execution_count": 270,
   "metadata": {},
   "outputs": [
    {
     "data": {
      "image/png": "[encoded data removed]",
      "text/plain": [
       "<Figure size 1200x600 with 1 Axes>"
      ]
     },
     "metadata": {},
     "output_type": "display_data"
    }
   ],
   "source": [
    "# compare US caloric intak breakdown to Belgium's with bar chart\n",
    "data = {\n",
    "    'Food Group': ['Other Commodities', 'Alcoholic Beverages', 'Sugar', 'Oils & Fats', 'Meat', 'Dairy & Eggs',\n",
    "                   'Fruits & Vegetables', 'Starchy Roots', 'Pulses', 'Cereals & Grains'],\n",
    "    'USA': [31.0, 168.0, 611.0, 912.0, 469.0, 456.0, 210.0, 102.0, 32.0, 783.0],\n",
    "    'Belgium': [29.0, 149.0, 513.0, 1038.0, 299.0, 473.0, 248.0, 157.0, 20.0, 854.0]\n",
    "}\n",
    "\n",
    "# Convert data to DataFrame\n",
    "df = pd.DataFrame(data)\n",
    "\n",
    "# Plot settings\n",
    "x = np.arange(len(df['Food Group']))  # Label locations\n",
    "width = 0.4  # Width of the bars\n",
    "\n",
    "fig, ax = plt.subplots(figsize=(12, 6))\n",
    "rects1 = ax.bar(x - width/2, df['USA'], width, label='USA', color='#afd1bb')\n",
    "rects2 = ax.bar(x + width/2, df['Belgium'], width, label='Belgium', color='#afbdd1')\n",
    "\n",
    "# Labels and titles\n",
    "ax.set_xlabel('Food Groups', fontweight = 'bold')\n",
    "ax.set_ylabel('Count', fontweight = 'bold')\n",
    "ax.set_title('Comparison of Caloric Intake by Food Group (USA vs Belgium, 2016)', fontweight = 'bold',fontsize=16)\n",
    "ax.set_xticks(x)\n",
    "ax.set_xticklabels(df['Food Group'], rotation=45, ha='right')\n",
    "ax.legend()\n",
    "\n",
    "# Show plot\n",
    "plt.tight_layout()\n",
    "plt.show()\n"
   ]
  },
  {
   "cell_type": "markdown",
   "metadata": {},
   "source": [
    "The only food groups that USA consumes more of on average is sugars, meats, and alcohol. This could possibly mean that other factors are influencing the USA's high obesity rate. "
   ]
  },
  {
   "cell_type": "markdown",
   "metadata": {},
   "source": [
    "Is there a coorelation between HDI and obesity rates? \n",
    "Do countries with higher HDI have more sedentary lifestyles and a less balanced diet - leading to higher rates of obesity?"
   ]
  },
  {
   "cell_type": "code",
   "execution_count": 272,
   "metadata": {},
   "outputs": [
    {
     "data": {
      "text/html": [
       "<div>\n",
       "<style scoped>\n",
       "    .dataframe tbody tr th:only-of-type {\n",
       "        vertical-align: middle;\n",
       "    }\n",
       "\n",
       "    .dataframe tbody tr th {\n",
       "        vertical-align: top;\n",
       "    }\n",
       "\n",
       "    .dataframe thead th {\n",
       "        text-align: right;\n",
       "    }\n",
       "</style>\n",
       "<table border=\"1\" class=\"dataframe\">\n",
       "  <thead>\n",
       "    <tr style=\"text-align: right;\">\n",
       "      <th></th>\n",
       "      <th>Country</th>\n",
       "      <th>Code</th>\n",
       "      <th>Year</th>\n",
       "      <th>HDI</th>\n",
       "    </tr>\n",
       "  </thead>\n",
       "  <tbody>\n",
       "    <tr>\n",
       "      <th>4</th>\n",
       "      <td>Andorra</td>\n",
       "      <td>AND</td>\n",
       "      <td>2016</td>\n",
       "      <td>0.86</td>\n",
       "    </tr>\n",
       "    <tr>\n",
       "      <th>2</th>\n",
       "      <td>Albania</td>\n",
       "      <td>ALB</td>\n",
       "      <td>2016</td>\n",
       "      <td>0.80</td>\n",
       "    </tr>\n",
       "    <tr>\n",
       "      <th>3</th>\n",
       "      <td>Algeria</td>\n",
       "      <td>DZA</td>\n",
       "      <td>2016</td>\n",
       "      <td>0.74</td>\n",
       "    </tr>\n",
       "    <tr>\n",
       "      <th>5</th>\n",
       "      <td>Angola</td>\n",
       "      <td>AGO</td>\n",
       "      <td>2016</td>\n",
       "      <td>0.60</td>\n",
       "    </tr>\n",
       "    <tr>\n",
       "      <th>0</th>\n",
       "      <td>Afghanistan</td>\n",
       "      <td>AFG</td>\n",
       "      <td>2016</td>\n",
       "      <td>0.48</td>\n",
       "    </tr>\n",
       "  </tbody>\n",
       "</table>\n",
       "</div>"
      ],
      "text/plain": [
       "       Country Code  Year   HDI\n",
       "4      Andorra  AND  2016  0.86\n",
       "2      Albania  ALB  2016  0.80\n",
       "3      Algeria  DZA  2016  0.74\n",
       "5       Angola  AGO  2016  0.60\n",
       "0  Afghanistan  AFG  2016  0.48"
      ]
     },
     "execution_count": 272,
     "metadata": {},
     "output_type": "execute_result"
    }
   ],
   "source": [
    "hdi_2016.head().sort_values(by='HDI', ascending=False)"
   ]
  }
 ],
 "metadata": {
  "kernelspec": {
   "display_name": "health",
   "language": "python",
   "name": "python3"
  },
  "language_info": {
   "codemirror_mode": {
    "name": "ipython",
    "version": 3
   },
   "file_extension": ".py",
   "mimetype": "text/x-python",
   "name": "python",
   "nbconvert_exporter": "python",
   "pygments_lexer": "ipython3",
   "version": "3.12.4"
  }
 },
 "nbformat": 4,
 "nbformat_minor": 2
}
